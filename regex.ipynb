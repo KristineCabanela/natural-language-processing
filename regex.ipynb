{
 "cells": [
  {
   "cell_type": "markdown",
   "id": "17e1f4ab",
   "metadata": {},
   "source": [
    "# Regular Expression Exercises"
   ]
  },
  {
   "cell_type": "code",
   "execution_count": 1,
   "id": "765b469c",
   "metadata": {},
   "outputs": [],
   "source": [
    "import re\n",
    "import pandas as pd\n"
   ]
  },
  {
   "cell_type": "markdown",
   "id": "6439c3f6",
   "metadata": {},
   "source": [
    "**1. Write a function named is_vowel. It should accept a string as input and use a regular expression to determine if the passed string is a vowel. While not explicity mentioned in the lesson, you can treat the result of re.search as a boolean value that indicates whether or not the regular expression matches the given string.**"
   ]
  },
  {
   "cell_type": "code",
   "execution_count": 2,
   "id": "0184437c",
   "metadata": {},
   "outputs": [],
   "source": [
    "def is_vowel(string):\n",
    "    if re.search('^[aeiouAEIOU]$', string) == None:\n",
    "        return False\n",
    "    else:\n",
    "        return True"
   ]
  },
  {
   "cell_type": "code",
   "execution_count": null,
   "id": "8e7bd742",
   "metadata": {},
   "outputs": [],
   "source": []
  },
  {
   "cell_type": "markdown",
   "id": "41cd90b1",
   "metadata": {},
   "source": [
    "**2. Write a function named is_valid_username that accepts a string as input. A valid username starts with a lowercase letter, and only consists of lowercase letters, numbers, or the _ character. It should also be no longer than 32 characters. The function should return either True or False depending on whether the passed string is a valid username.**"
   ]
  },
  {
   "cell_type": "code",
   "execution_count": 3,
   "id": "2095a9f2",
   "metadata": {},
   "outputs": [],
   "source": [
    "def is_valid_username():\n",
    "    if re.search('(?=.{1,32}$)[a-z0-9_\\-]', string) == None:\n",
    "        return False\n",
    "    else:\n",
    "        return True\n",
    "    \n",
    "# only consists of lowercase letters, numbers or the _ character, not longer than 32 characters\n",
    "# should return true or false depending on if it meets the above criteria for a username"
   ]
  },
  {
   "cell_type": "markdown",
   "id": "e3d67076",
   "metadata": {},
   "source": [
    "**3. Write a regular expression to capture phone numbers. It should match all of the following:**"
   ]
  },
  {
   "cell_type": "code",
   "execution_count": 4,
   "id": "f056a6c0",
   "metadata": {},
   "outputs": [
    {
     "data": {
      "text/plain": [
       "<re.Match object; span=(0, 14), match='(210) 867 5309'>"
      ]
     },
     "execution_count": 4,
     "metadata": {},
     "output_type": "execute_result"
    }
   ],
   "source": [
    "re.search(\"\\(\\d{3}\\)\\s\\d{3}\\s\\d{4}\", \"(210) 867 5309\")\n"
   ]
  },
  {
   "cell_type": "code",
   "execution_count": 5,
   "id": "06b5f231",
   "metadata": {},
   "outputs": [],
   "source": [
    "re.search(\"[1-15]\\+1$\\d{2}\\.\\d{3}\\.\\d{4}\", \"+1 210.867.5309\")\n"
   ]
  },
  {
   "cell_type": "code",
   "execution_count": 6,
   "id": "d8362166",
   "metadata": {},
   "outputs": [],
   "source": [
    "re.search(\"[1-8]\\d{3}\\-\\d{4}\", \"867-5309\")\n"
   ]
  },
  {
   "cell_type": "code",
   "execution_count": 7,
   "id": "7b6bc935",
   "metadata": {},
   "outputs": [
    {
     "data": {
      "text/plain": [
       "<re.Match object; span=(0, 12), match='210-867-5309'>"
      ]
     },
     "execution_count": 7,
     "metadata": {},
     "output_type": "execute_result"
    }
   ],
   "source": [
    "re.search(\"[1-9]\\d{2}\\-\\d{3}\\-\\d{4}\",\"210-867-5309\")"
   ]
  },
  {
   "cell_type": "markdown",
   "id": "17e48529",
   "metadata": {},
   "source": [
    "**4.Use regular expressions to convert the dates below to the standardized year-month-day format.**"
   ]
  },
  {
   "cell_type": "code",
   "execution_count": 8,
   "id": "eb1ee606",
   "metadata": {},
   "outputs": [
    {
     "data": {
      "text/html": [
       "<div>\n",
       "<style scoped>\n",
       "    .dataframe tbody tr th:only-of-type {\n",
       "        vertical-align: middle;\n",
       "    }\n",
       "\n",
       "    .dataframe tbody tr th {\n",
       "        vertical-align: top;\n",
       "    }\n",
       "\n",
       "    .dataframe thead th {\n",
       "        text-align: right;\n",
       "    }\n",
       "</style>\n",
       "<table border=\"1\" class=\"dataframe\">\n",
       "  <thead>\n",
       "    <tr style=\"text-align: right;\">\n",
       "      <th></th>\n",
       "      <th>original</th>\n",
       "    </tr>\n",
       "  </thead>\n",
       "  <tbody>\n",
       "    <tr>\n",
       "      <th>0</th>\n",
       "      <td>02/04/19</td>\n",
       "    </tr>\n",
       "    <tr>\n",
       "      <th>1</th>\n",
       "      <td>02/05/19</td>\n",
       "    </tr>\n",
       "    <tr>\n",
       "      <th>2</th>\n",
       "      <td>02/06/19</td>\n",
       "    </tr>\n",
       "    <tr>\n",
       "      <th>3</th>\n",
       "      <td>02/07/19</td>\n",
       "    </tr>\n",
       "    <tr>\n",
       "      <th>4</th>\n",
       "      <td>02/08/19</td>\n",
       "    </tr>\n",
       "    <tr>\n",
       "      <th>5</th>\n",
       "      <td>02/09/19</td>\n",
       "    </tr>\n",
       "    <tr>\n",
       "      <th>6</th>\n",
       "      <td>02/10/19</td>\n",
       "    </tr>\n",
       "  </tbody>\n",
       "</table>\n",
       "</div>"
      ],
      "text/plain": [
       "   original\n",
       "0  02/04/19\n",
       "1  02/05/19\n",
       "2  02/06/19\n",
       "3  02/07/19\n",
       "4  02/08/19\n",
       "5  02/09/19\n",
       "6  02/10/19"
      ]
     },
     "execution_count": 8,
     "metadata": {},
     "output_type": "execute_result"
    }
   ],
   "source": [
    "dates = [\n",
    "    \"02/04/19\",\n",
    "    \"02/05/19\",\n",
    "    \"02/06/19\",\n",
    "    \"02/07/19\",\n",
    "    \"02/08/19\",\n",
    "    \"02/09/19\",\n",
    "    \"02/10/19\"\n",
    "]\n",
    "\n",
    "df = pd.DataFrame({\"original\": dates})\n",
    "df"
   ]
  },
  {
   "cell_type": "code",
   "execution_count": 9,
   "id": "98e24f84",
   "metadata": {},
   "outputs": [],
   "source": [
    "pattern = re.compile(r\"\"\"\n",
    "(?P<month>\\d{2})/\n",
    "(?P<day>\\d{2})/\n",
    "(?P<year>\\d{2})\n",
    "\"\"\", re.VERBOSE)"
   ]
  },
  {
   "cell_type": "code",
   "execution_count": 10,
   "id": "372dcb46",
   "metadata": {},
   "outputs": [
    {
     "data": {
      "text/html": [
       "<div>\n",
       "<style scoped>\n",
       "    .dataframe tbody tr th:only-of-type {\n",
       "        vertical-align: middle;\n",
       "    }\n",
       "\n",
       "    .dataframe tbody tr th {\n",
       "        vertical-align: top;\n",
       "    }\n",
       "\n",
       "    .dataframe thead th {\n",
       "        text-align: right;\n",
       "    }\n",
       "</style>\n",
       "<table border=\"1\" class=\"dataframe\">\n",
       "  <thead>\n",
       "    <tr style=\"text-align: right;\">\n",
       "      <th></th>\n",
       "      <th>original</th>\n",
       "      <th>month</th>\n",
       "      <th>day</th>\n",
       "      <th>year</th>\n",
       "    </tr>\n",
       "  </thead>\n",
       "  <tbody>\n",
       "    <tr>\n",
       "      <th>0</th>\n",
       "      <td>02/04/19</td>\n",
       "      <td>02</td>\n",
       "      <td>04</td>\n",
       "      <td>19</td>\n",
       "    </tr>\n",
       "    <tr>\n",
       "      <th>1</th>\n",
       "      <td>02/05/19</td>\n",
       "      <td>02</td>\n",
       "      <td>05</td>\n",
       "      <td>19</td>\n",
       "    </tr>\n",
       "    <tr>\n",
       "      <th>2</th>\n",
       "      <td>02/06/19</td>\n",
       "      <td>02</td>\n",
       "      <td>06</td>\n",
       "      <td>19</td>\n",
       "    </tr>\n",
       "    <tr>\n",
       "      <th>3</th>\n",
       "      <td>02/07/19</td>\n",
       "      <td>02</td>\n",
       "      <td>07</td>\n",
       "      <td>19</td>\n",
       "    </tr>\n",
       "    <tr>\n",
       "      <th>4</th>\n",
       "      <td>02/08/19</td>\n",
       "      <td>02</td>\n",
       "      <td>08</td>\n",
       "      <td>19</td>\n",
       "    </tr>\n",
       "    <tr>\n",
       "      <th>5</th>\n",
       "      <td>02/09/19</td>\n",
       "      <td>02</td>\n",
       "      <td>09</td>\n",
       "      <td>19</td>\n",
       "    </tr>\n",
       "    <tr>\n",
       "      <th>6</th>\n",
       "      <td>02/10/19</td>\n",
       "      <td>02</td>\n",
       "      <td>10</td>\n",
       "      <td>19</td>\n",
       "    </tr>\n",
       "  </tbody>\n",
       "</table>\n",
       "</div>"
      ],
      "text/plain": [
       "   original month day year\n",
       "0  02/04/19    02  04   19\n",
       "1  02/05/19    02  05   19\n",
       "2  02/06/19    02  06   19\n",
       "3  02/07/19    02  07   19\n",
       "4  02/08/19    02  08   19\n",
       "5  02/09/19    02  09   19\n",
       "6  02/10/19    02  10   19"
      ]
     },
     "execution_count": 10,
     "metadata": {},
     "output_type": "execute_result"
    }
   ],
   "source": [
    "df = pd.concat([df, df.original.str.extract(pattern)], axis=1)\n",
    "df"
   ]
  },
  {
   "cell_type": "code",
   "execution_count": 11,
   "id": "fb1d6a21",
   "metadata": {},
   "outputs": [
    {
     "data": {
      "text/html": [
       "<div>\n",
       "<style scoped>\n",
       "    .dataframe tbody tr th:only-of-type {\n",
       "        vertical-align: middle;\n",
       "    }\n",
       "\n",
       "    .dataframe tbody tr th {\n",
       "        vertical-align: top;\n",
       "    }\n",
       "\n",
       "    .dataframe thead th {\n",
       "        text-align: right;\n",
       "    }\n",
       "</style>\n",
       "<table border=\"1\" class=\"dataframe\">\n",
       "  <thead>\n",
       "    <tr style=\"text-align: right;\">\n",
       "      <th></th>\n",
       "      <th>original</th>\n",
       "      <th>month</th>\n",
       "      <th>day</th>\n",
       "      <th>year</th>\n",
       "      <th>new_format</th>\n",
       "    </tr>\n",
       "  </thead>\n",
       "  <tbody>\n",
       "    <tr>\n",
       "      <th>0</th>\n",
       "      <td>02/04/19</td>\n",
       "      <td>02</td>\n",
       "      <td>04</td>\n",
       "      <td>19</td>\n",
       "      <td>19/02/04</td>\n",
       "    </tr>\n",
       "    <tr>\n",
       "      <th>1</th>\n",
       "      <td>02/05/19</td>\n",
       "      <td>02</td>\n",
       "      <td>05</td>\n",
       "      <td>19</td>\n",
       "      <td>19/02/05</td>\n",
       "    </tr>\n",
       "    <tr>\n",
       "      <th>2</th>\n",
       "      <td>02/06/19</td>\n",
       "      <td>02</td>\n",
       "      <td>06</td>\n",
       "      <td>19</td>\n",
       "      <td>19/02/06</td>\n",
       "    </tr>\n",
       "    <tr>\n",
       "      <th>3</th>\n",
       "      <td>02/07/19</td>\n",
       "      <td>02</td>\n",
       "      <td>07</td>\n",
       "      <td>19</td>\n",
       "      <td>19/02/07</td>\n",
       "    </tr>\n",
       "    <tr>\n",
       "      <th>4</th>\n",
       "      <td>02/08/19</td>\n",
       "      <td>02</td>\n",
       "      <td>08</td>\n",
       "      <td>19</td>\n",
       "      <td>19/02/08</td>\n",
       "    </tr>\n",
       "    <tr>\n",
       "      <th>5</th>\n",
       "      <td>02/09/19</td>\n",
       "      <td>02</td>\n",
       "      <td>09</td>\n",
       "      <td>19</td>\n",
       "      <td>19/02/09</td>\n",
       "    </tr>\n",
       "    <tr>\n",
       "      <th>6</th>\n",
       "      <td>02/10/19</td>\n",
       "      <td>02</td>\n",
       "      <td>10</td>\n",
       "      <td>19</td>\n",
       "      <td>19/02/10</td>\n",
       "    </tr>\n",
       "  </tbody>\n",
       "</table>\n",
       "</div>"
      ],
      "text/plain": [
       "   original month day year new_format\n",
       "0  02/04/19    02  04   19   19/02/04\n",
       "1  02/05/19    02  05   19   19/02/05\n",
       "2  02/06/19    02  06   19   19/02/06\n",
       "3  02/07/19    02  07   19   19/02/07\n",
       "4  02/08/19    02  08   19   19/02/08\n",
       "5  02/09/19    02  09   19   19/02/09\n",
       "6  02/10/19    02  10   19   19/02/10"
      ]
     },
     "execution_count": 11,
     "metadata": {},
     "output_type": "execute_result"
    }
   ],
   "source": [
    "df[\"new_format\"] = df.year + \"/\" + df.month + \"/\" + df.day \n",
    "df"
   ]
  },
  {
   "cell_type": "markdown",
   "id": "6737e3db",
   "metadata": {},
   "source": [
    "**5.Write a regex to extract the various parts of these logfile lines:**\n"
   ]
  },
  {
   "cell_type": "code",
   "execution_count": 12,
   "id": "b4f47bad",
   "metadata": {},
   "outputs": [
    {
     "data": {
      "text/plain": [
       "['GET /api/v1/sales?page=86 [16/Apr/2019:193452+0000] HTTP/1.1 {200} 510348 \"python-requests/2.21.0\" 97.105.19.58',\n",
       " 'POST /users_accounts/file-upload [16/Apr/2019:193452+0000] HTTP/1.1 {201} 42 \"User-Agent: Mozilla/5.0 (X11; Fedora; Fedora; Linux x86_64) AppleWebKit/537.36 (KHTML, like Gecko) Chrome/73.0.3683.86 Safari/537.36\" 97.105.19.58',\n",
       " 'GET /api/v1/items?page=3 [16/Apr/2019:193453+0000] HTTP/1.1 {429} 3561 \"python-requests/2.21.0\" 97.105.19.58']"
      ]
     },
     "execution_count": 12,
     "metadata": {},
     "output_type": "execute_result"
    }
   ],
   "source": [
    "lines = [\n",
    "    \"\"\"GET /api/v1/sales?page=86 [16/Apr/2019:193452+0000] HTTP/1.1 {200} 510348 \"python-requests/2.21.0\" 97.105.19.58\"\"\",\n",
    "    \"\"\"POST /users_accounts/file-upload [16/Apr/2019:193452+0000] HTTP/1.1 {201} 42 \"User-Agent: Mozilla/5.0 (X11; Fedora; Fedora; Linux x86_64) AppleWebKit/537.36 (KHTML, like Gecko) Chrome/73.0.3683.86 Safari/537.36\" 97.105.19.58\"\"\",\n",
    "    \"\"\"GET /api/v1/items?page=3 [16/Apr/2019:193453+0000] HTTP/1.1 {429} 3561 \"python-requests/2.21.0\" 97.105.19.58\"\"\"\n",
    "]\n",
    "lines"
   ]
  },
  {
   "cell_type": "code",
   "execution_count": 13,
   "id": "1e2f138b",
   "metadata": {},
   "outputs": [
    {
     "data": {
      "text/plain": [
       "<re.Match object; span=(65, 75), match='} 510348 \"'>"
      ]
     },
     "execution_count": 13,
     "metadata": {},
     "output_type": "execute_result"
    }
   ],
   "source": [
    "x = re.compile(\"\"\"\n",
    "\\}\\s(?P<bytes>\\d+)\\s\\\"\n",
    "\"\"\", re.VERBOSE)\n",
    "match = re.search(x, lines[0])\n",
    "match\n"
   ]
  },
  {
   "cell_type": "code",
   "execution_count": 14,
   "id": "3d21b849",
   "metadata": {},
   "outputs": [
    {
     "data": {
      "text/plain": [
       "'510348'"
      ]
     },
     "execution_count": 14,
     "metadata": {},
     "output_type": "execute_result"
    }
   ],
   "source": [
    "match.group(\"bytes\")\n"
   ]
  },
  {
   "cell_type": "code",
   "execution_count": 15,
   "id": "f46083cc",
   "metadata": {},
   "outputs": [],
   "source": [
    "log_pattern = re.compile(r\"\"\"\n",
    "(?P<method>GET|POST) \n",
    "\\s\n",
    "(?P<path>/[/\\w\\-\\?=]+)\n",
    "\\s\n",
    "\\[(?P<timestamp>.+)\\]\n",
    "\\s\n",
    "(?P<http_version>HTTP/\\d+\\.\\d+)\n",
    "\\s\n",
    "\\{(?P<status_code>\\d+)\\}\n",
    "\\s\n",
    "(?P<bytes>\\d+)\n",
    "\\s\n",
    "\"(?P<user_agent>.+)\"\n",
    "\\s\n",
    "(?P<ip>\\d{1,3}\\.\\d{1,3}\\.\\d{1,3}\\.\\d{1,3})\n",
    "$\n",
    "\"\"\", re.VERBOSE)"
   ]
  },
  {
   "cell_type": "code",
   "execution_count": 16,
   "id": "325c20f6",
   "metadata": {},
   "outputs": [
    {
     "data": {
      "text/plain": [
       "[{'method': 'GET',\n",
       "  'path': '/api/v1/sales?page=86',\n",
       "  'timestamp': '16/Apr/2019:193452+0000',\n",
       "  'http_version': 'HTTP/1.1',\n",
       "  'status_code': '200',\n",
       "  'bytes': '510348',\n",
       "  'user_agent': 'python-requests/2.21.0',\n",
       "  'ip': '97.105.19.58'},\n",
       " {'method': 'POST',\n",
       "  'path': '/users_accounts/file-upload',\n",
       "  'timestamp': '16/Apr/2019:193452+0000',\n",
       "  'http_version': 'HTTP/1.1',\n",
       "  'status_code': '201',\n",
       "  'bytes': '42',\n",
       "  'user_agent': 'User-Agent: Mozilla/5.0 (X11; Fedora; Fedora; Linux x86_64) AppleWebKit/537.36 (KHTML, like Gecko) Chrome/73.0.3683.86 Safari/537.36',\n",
       "  'ip': '97.105.19.58'},\n",
       " {'method': 'GET',\n",
       "  'path': '/api/v1/items?page=3',\n",
       "  'timestamp': '16/Apr/2019:193453+0000',\n",
       "  'http_version': 'HTTP/1.1',\n",
       "  'status_code': '429',\n",
       "  'bytes': '3561',\n",
       "  'user_agent': 'python-requests/2.21.0',\n",
       "  'ip': '97.105.19.58'}]"
      ]
     },
     "execution_count": 16,
     "metadata": {},
     "output_type": "execute_result"
    }
   ],
   "source": [
    "rows = [re.search(log_pattern, line).groupdict() for line in lines]\n",
    "rows\n"
   ]
  },
  {
   "cell_type": "code",
   "execution_count": 17,
   "id": "f7eb102b",
   "metadata": {},
   "outputs": [
    {
     "data": {
      "text/html": [
       "<div>\n",
       "<style scoped>\n",
       "    .dataframe tbody tr th:only-of-type {\n",
       "        vertical-align: middle;\n",
       "    }\n",
       "\n",
       "    .dataframe tbody tr th {\n",
       "        vertical-align: top;\n",
       "    }\n",
       "\n",
       "    .dataframe thead th {\n",
       "        text-align: right;\n",
       "    }\n",
       "</style>\n",
       "<table border=\"1\" class=\"dataframe\">\n",
       "  <thead>\n",
       "    <tr style=\"text-align: right;\">\n",
       "      <th></th>\n",
       "      <th>method</th>\n",
       "      <th>path</th>\n",
       "      <th>timestamp</th>\n",
       "      <th>http_version</th>\n",
       "      <th>status_code</th>\n",
       "      <th>bytes</th>\n",
       "      <th>user_agent</th>\n",
       "      <th>ip</th>\n",
       "    </tr>\n",
       "  </thead>\n",
       "  <tbody>\n",
       "    <tr>\n",
       "      <th>0</th>\n",
       "      <td>GET</td>\n",
       "      <td>/api/v1/sales?page=86</td>\n",
       "      <td>16/Apr/2019:193452+0000</td>\n",
       "      <td>HTTP/1.1</td>\n",
       "      <td>200</td>\n",
       "      <td>510348</td>\n",
       "      <td>python-requests/2.21.0</td>\n",
       "      <td>97.105.19.58</td>\n",
       "    </tr>\n",
       "    <tr>\n",
       "      <th>1</th>\n",
       "      <td>POST</td>\n",
       "      <td>/users_accounts/file-upload</td>\n",
       "      <td>16/Apr/2019:193452+0000</td>\n",
       "      <td>HTTP/1.1</td>\n",
       "      <td>201</td>\n",
       "      <td>42</td>\n",
       "      <td>User-Agent: Mozilla/5.0 (X11; Fedora; Fedora; ...</td>\n",
       "      <td>97.105.19.58</td>\n",
       "    </tr>\n",
       "    <tr>\n",
       "      <th>2</th>\n",
       "      <td>GET</td>\n",
       "      <td>/api/v1/items?page=3</td>\n",
       "      <td>16/Apr/2019:193453+0000</td>\n",
       "      <td>HTTP/1.1</td>\n",
       "      <td>429</td>\n",
       "      <td>3561</td>\n",
       "      <td>python-requests/2.21.0</td>\n",
       "      <td>97.105.19.58</td>\n",
       "    </tr>\n",
       "  </tbody>\n",
       "</table>\n",
       "</div>"
      ],
      "text/plain": [
       "  method                         path                timestamp http_version  \\\n",
       "0    GET        /api/v1/sales?page=86  16/Apr/2019:193452+0000     HTTP/1.1   \n",
       "1   POST  /users_accounts/file-upload  16/Apr/2019:193452+0000     HTTP/1.1   \n",
       "2    GET         /api/v1/items?page=3  16/Apr/2019:193453+0000     HTTP/1.1   \n",
       "\n",
       "  status_code   bytes                                         user_agent  \\\n",
       "0         200  510348                             python-requests/2.21.0   \n",
       "1         201      42  User-Agent: Mozilla/5.0 (X11; Fedora; Fedora; ...   \n",
       "2         429    3561                             python-requests/2.21.0   \n",
       "\n",
       "             ip  \n",
       "0  97.105.19.58  \n",
       "1  97.105.19.58  \n",
       "2  97.105.19.58  "
      ]
     },
     "execution_count": 17,
     "metadata": {},
     "output_type": "execute_result"
    }
   ],
   "source": [
    "df = pd.DataFrame(rows)\n",
    "df"
   ]
  },
  {
   "cell_type": "code",
   "execution_count": 18,
   "id": "d187cb41",
   "metadata": {},
   "outputs": [],
   "source": [
    "# let's make a column that is a boolean whether or not the path contained a query string\n",
    "# simple answer on one string: look for a question mark character\n",
    "def is_query_string(string):\n",
    "    return \"?\" in string"
   ]
  },
  {
   "cell_type": "code",
   "execution_count": 19,
   "id": "c43d3e5a",
   "metadata": {},
   "outputs": [
    {
     "data": {
      "text/html": [
       "<div>\n",
       "<style scoped>\n",
       "    .dataframe tbody tr th:only-of-type {\n",
       "        vertical-align: middle;\n",
       "    }\n",
       "\n",
       "    .dataframe tbody tr th {\n",
       "        vertical-align: top;\n",
       "    }\n",
       "\n",
       "    .dataframe thead th {\n",
       "        text-align: right;\n",
       "    }\n",
       "</style>\n",
       "<table border=\"1\" class=\"dataframe\">\n",
       "  <thead>\n",
       "    <tr style=\"text-align: right;\">\n",
       "      <th></th>\n",
       "      <th>method</th>\n",
       "      <th>path</th>\n",
       "      <th>timestamp</th>\n",
       "      <th>http_version</th>\n",
       "      <th>status_code</th>\n",
       "      <th>bytes</th>\n",
       "      <th>user_agent</th>\n",
       "      <th>ip</th>\n",
       "      <th>has_query_string</th>\n",
       "    </tr>\n",
       "  </thead>\n",
       "  <tbody>\n",
       "    <tr>\n",
       "      <th>0</th>\n",
       "      <td>GET</td>\n",
       "      <td>/api/v1/sales?page=86</td>\n",
       "      <td>16/Apr/2019:193452+0000</td>\n",
       "      <td>HTTP/1.1</td>\n",
       "      <td>200</td>\n",
       "      <td>510348</td>\n",
       "      <td>python-requests/2.21.0</td>\n",
       "      <td>97.105.19.58</td>\n",
       "      <td>True</td>\n",
       "    </tr>\n",
       "    <tr>\n",
       "      <th>1</th>\n",
       "      <td>POST</td>\n",
       "      <td>/users_accounts/file-upload</td>\n",
       "      <td>16/Apr/2019:193452+0000</td>\n",
       "      <td>HTTP/1.1</td>\n",
       "      <td>201</td>\n",
       "      <td>42</td>\n",
       "      <td>User-Agent: Mozilla/5.0 (X11; Fedora; Fedora; ...</td>\n",
       "      <td>97.105.19.58</td>\n",
       "      <td>False</td>\n",
       "    </tr>\n",
       "    <tr>\n",
       "      <th>2</th>\n",
       "      <td>GET</td>\n",
       "      <td>/api/v1/items?page=3</td>\n",
       "      <td>16/Apr/2019:193453+0000</td>\n",
       "      <td>HTTP/1.1</td>\n",
       "      <td>429</td>\n",
       "      <td>3561</td>\n",
       "      <td>python-requests/2.21.0</td>\n",
       "      <td>97.105.19.58</td>\n",
       "      <td>True</td>\n",
       "    </tr>\n",
       "  </tbody>\n",
       "</table>\n",
       "</div>"
      ],
      "text/plain": [
       "  method                         path                timestamp http_version  \\\n",
       "0    GET        /api/v1/sales?page=86  16/Apr/2019:193452+0000     HTTP/1.1   \n",
       "1   POST  /users_accounts/file-upload  16/Apr/2019:193452+0000     HTTP/1.1   \n",
       "2    GET         /api/v1/items?page=3  16/Apr/2019:193453+0000     HTTP/1.1   \n",
       "\n",
       "  status_code   bytes                                         user_agent  \\\n",
       "0         200  510348                             python-requests/2.21.0   \n",
       "1         201      42  User-Agent: Mozilla/5.0 (X11; Fedora; Fedora; ...   \n",
       "2         429    3561                             python-requests/2.21.0   \n",
       "\n",
       "             ip  has_query_string  \n",
       "0  97.105.19.58              True  \n",
       "1  97.105.19.58             False  \n",
       "2  97.105.19.58              True  "
      ]
     },
     "execution_count": 19,
     "metadata": {},
     "output_type": "execute_result"
    }
   ],
   "source": [
    "# df[\"has_query_string\"] = df[\"path\"].apply(lambda string: \"?\" in string)\n",
    "df[\"has_query_string\"] = df[\"path\"].apply(is_query_string)\n",
    "df"
   ]
  }
 ],
 "metadata": {
  "kernelspec": {
   "display_name": "Python 3",
   "language": "python",
   "name": "python3"
  },
  "language_info": {
   "codemirror_mode": {
    "name": "ipython",
    "version": 3
   },
   "file_extension": ".py",
   "mimetype": "text/x-python",
   "name": "python",
   "nbconvert_exporter": "python",
   "pygments_lexer": "ipython3",
   "version": "3.8.8"
  }
 },
 "nbformat": 4,
 "nbformat_minor": 5
}
