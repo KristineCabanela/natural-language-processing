{
 "cells": [
  {
   "cell_type": "markdown",
   "id": "4e1d73a5",
   "metadata": {},
   "source": [
    "# Regular Expression Exercises"
   ]
  },
  {
   "cell_type": "code",
   "execution_count": 1,
   "id": "a527659d",
   "metadata": {},
   "outputs": [],
   "source": [
    "import re"
   ]
  },
  {
   "cell_type": "markdown",
   "id": "1e55ac70",
   "metadata": {},
   "source": [
    "**1. Write a function named is_vowel. It should accept a string as input and use a regular expression to determine if the passed string is a vowel. While not explicity mentioned in the lesson, you can treat the result of re.search as a boolean value that indicates whether or not the regular expression matches the given string.**"
   ]
  },
  {
   "cell_type": "code",
   "execution_count": 2,
   "id": "5dc4ed33",
   "metadata": {},
   "outputs": [],
   "source": [
    "def is_vowel(string):\n",
    "    if re.search('^[aeiouAEIOU]$', string) == None:\n",
    "        return False\n",
    "    else:\n",
    "        return True"
   ]
  },
  {
   "cell_type": "code",
   "execution_count": null,
   "id": "39d97497",
   "metadata": {},
   "outputs": [],
   "source": []
  },
  {
   "cell_type": "markdown",
   "id": "8046c191",
   "metadata": {},
   "source": [
    "**2. Write a function named is_valid_username that accepts a string as input. A valid username starts with a lowercase letter, and only consists of lowercase letters, numbers, or the _ character. It should also be no longer than 32 characters. The function should return either True or False depending on whether the passed string is a valid username.**"
   ]
  },
  {
   "cell_type": "code",
   "execution_count": 3,
   "id": "50073eeb",
   "metadata": {},
   "outputs": [],
   "source": [
    "def is_valid_username():\n",
    "    if re.search('(?=.{1,32}$)[a-z0-9_\\-]', string) == None:\n",
    "        return False\n",
    "    else:\n",
    "        return True\n",
    "    \n",
    "# only consists of lowercase letters, numbers or the _ character, not longer than 32 characters\n",
    "# should return true or false depending on if it meets the above criteria for a username"
   ]
  },
  {
   "cell_type": "markdown",
   "id": "d8c809f6",
   "metadata": {},
   "source": [
    "**3. Write a regular expression to capture phone numbers. It should match all of the following:**"
   ]
  },
  {
   "cell_type": "code",
   "execution_count": 4,
   "id": "cb06f204",
   "metadata": {},
   "outputs": [
    {
     "data": {
      "text/plain": [
       "<re.Match object; span=(0, 14), match='(210) 867 5309'>"
      ]
     },
     "execution_count": 4,
     "metadata": {},
     "output_type": "execute_result"
    }
   ],
   "source": [
    "re.search(\"\\(\\d{3}\\)\\s\\d{3}\\s\\d{4}\", \"(210) 867 5309\")\n"
   ]
  },
  {
   "cell_type": "code",
   "execution_count": 5,
   "id": "72f5b798",
   "metadata": {},
   "outputs": [],
   "source": [
    "re.search(\"[1-15]\\+1$\\d{2}\\.\\d{3}\\.\\d{4}\", \"+1 210.867.5309\")\n"
   ]
  },
  {
   "cell_type": "code",
   "execution_count": 6,
   "id": "3d5b5931",
   "metadata": {},
   "outputs": [],
   "source": [
    "re.search(\"[1-8]\\d{3}\\-\\d{4}\", \"867-5309\")\n"
   ]
  },
  {
   "cell_type": "code",
   "execution_count": 7,
   "id": "1af9c4dc",
   "metadata": {},
   "outputs": [
    {
     "data": {
      "text/plain": [
       "<re.Match object; span=(0, 12), match='210-867-5309'>"
      ]
     },
     "execution_count": 7,
     "metadata": {},
     "output_type": "execute_result"
    }
   ],
   "source": [
    "re.search(\"[1-9]\\d{2}\\-\\d{3}\\-\\d{4}\",\"210-867-5309\")"
   ]
  },
  {
   "cell_type": "markdown",
   "id": "4ee693b9",
   "metadata": {},
   "source": [
    "**4.Use regular expressions to convert the dates below to the standardized year-month-day format.**"
   ]
  },
  {
   "cell_type": "code",
   "execution_count": null,
   "id": "4f2b0d5f",
   "metadata": {},
   "outputs": [],
   "source": []
  },
  {
   "cell_type": "code",
   "execution_count": null,
   "id": "af1659dc",
   "metadata": {},
   "outputs": [],
   "source": []
  },
  {
   "cell_type": "markdown",
   "id": "927e1a37",
   "metadata": {},
   "source": [
    "**5.Write a regex to extract the various parts of these logfile lines:**\n"
   ]
  },
  {
   "cell_type": "code",
   "execution_count": null,
   "id": "0f9d2d81",
   "metadata": {},
   "outputs": [],
   "source": []
  },
  {
   "cell_type": "code",
   "execution_count": null,
   "id": "3f8c2c69",
   "metadata": {},
   "outputs": [],
   "source": []
  }
 ],
 "metadata": {
  "kernelspec": {
   "display_name": "Python 3",
   "language": "python",
   "name": "python3"
  },
  "language_info": {
   "codemirror_mode": {
    "name": "ipython",
    "version": 3
   },
   "file_extension": ".py",
   "mimetype": "text/x-python",
   "name": "python",
   "nbconvert_exporter": "python",
   "pygments_lexer": "ipython3",
   "version": "3.8.8"
  }
 },
 "nbformat": 4,
 "nbformat_minor": 5
}
