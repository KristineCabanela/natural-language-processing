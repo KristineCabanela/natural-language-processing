{
 "cells": [
  {
   "cell_type": "markdown",
   "metadata": {},
   "source": [
    "# Data Acquisition with Web Scraping"
   ]
  },
  {
   "cell_type": "code",
   "execution_count": 1,
   "metadata": {},
   "outputs": [],
   "source": [
    "import requests\n",
    "from bs4 import BeautifulSoup\n",
    "import pandas as pd\n",
    "\n",
    "from requests import get\n",
    "from bs4 import BeautifulSoup\n",
    "import os"
   ]
  },
  {
   "cell_type": "markdown",
   "metadata": {},
   "source": [
    "`$ pip install beautifulsoup4`"
   ]
  },
  {
   "cell_type": "markdown",
   "metadata": {},
   "source": [
    "## Soup Methods\n",
    "\n",
    "- `soup.select('.class')`: to get all the elements with class `class`\n",
    "- `soup.select_one('.class')`: to get the first element with class `class`\n",
    "- `soup.h2`: to get the first `h2` element\n",
    "- `soup.find_all('h2')`: to get all the elements with tag name of `h2`\n",
    "- `soup('h2')` : same as `find_all` method above\n",
    "- `soup.find('h2')`: finds the first matching element"
   ]
  },
  {
   "cell_type": "markdown",
   "metadata": {},
   "source": [
    "First make the request. The response is a bunch of html."
   ]
  },
  {
   "cell_type": "code",
   "execution_count": 2,
   "metadata": {
    "scrolled": true
   },
   "outputs": [
    {
     "data": {
      "text/plain": [
       "'<!DOCTYPE html>\\n<html lang=\"en\">\\n<head>\\n    <meta charset=\"UTF-8\">\\n    <meta http-equiv=\"X-UA-Compatible\" content=\"IE=edge\">\\n    <meta name=\"viewport\" content=\"width=device-width, initial-scale=1.0\">\\n    <title>News Example Page</title>\\n    <link href=\"https://unpkg.com/tailwindcss@^2/dist/tailwind.min.css\" rel=\"stylesheet\" />\\n    <link rel=\"stylesheet\" href=\"https://cdn.jsdelivr.net/npm/bootstrap-icons@1.4.1/font/bootstrap-icons.css\" />\\n</head>\\n<body class=\"mx-auto max-w-screen-lg pb-32\">\\n    \\n<h1 class=\"my-5 text-4xl text-center\">News!</h1>\\n<div class=\"my-5 text-red-800 px-5 py-3 bg-red-100 font-bold\">\\n    <p>\\n        <i class=\"bi bi-exclamation-circle text-xl\"></i>\\n        All data on this page is strictly for demonstration purposes and fake.\\n    </p>\\n</div>\\n<div class=\"grid gap-y-12\">\\n    \\n    <div class=\"grid grid-cols-4 gap-x-4 border rounded pr-3 bg-green-50 hover:shadow-lg transition duration-500\">\\n        <img src=\"/static/placeholder.png\" />\\n        <div class=\"col-span-3 space-y-3 py-3\">\\n            <h2 class=\"text-2xl text-green-900\">forward approach civil</h2>\\n            <div class=\"grid grid-cols-2 italic\">\\n                <p> 2000-04-18 </p>\\n                <p class=\"text-right\">By Melvin Campbell </p>\\n            </div>\\n            <p>Toward toward us knowledge. Wonder approach consider matter provide air mouth. Personal statement father paper edge phone.\\nFly administration hotel walk soon dark us. Memory report she play present.</p>\\n        </div>\\n    </div>\\n    \\n    <div class=\"grid grid-cols-4 gap-x-4 border rounded pr-3 bg-green-50 hover:shadow-lg transition duration-500\">\\n        <img src=\"/static/placeholder.png\" />\\n        <div class=\"col-span-3 space-y-3 py-3\">\\n            <h2 class=\"text-2xl text-green-900\">interest appear big</h2>\\n            <div class=\"grid grid-cols-2 italic\">\\n                <p> 2019-04-13 </p>\\n                <p class=\"text-right\">By Tammy Riley </p>\\n            </div>\\n            <p>Example several risk here author your. Would across relate amount out. Produce direction election perform.\\nResult three able political you figure do. Word but themselves glass safe base.</p>\\n        </div>\\n    </div>\\n    \\n    <div class=\"grid grid-cols-4 gap-x-4 border rounded pr-3 bg-green-50 hover:shadow-lg transition duration-500\">\\n        <img src=\"/static/placeholder.png\" />\\n        <div class=\"col-span-3 space-y-3 py-3\">\\n            <h2 class=\"text-2xl text-green-900\">check first surface</h2>\\n            <div class=\"grid grid-cols-2 italic\">\\n                <p> 1978-11-03 </p>\\n                <p class=\"text-right\">By Stephanie Bond </p>\\n            </div>\\n            <p>Fill image city. Might each he entire necessary. Risk he effort skin seek high myself across.\\nAttorney during action ground among. Either money ask hotel either woman network. Receive of resource these sell.</p>\\n        </div>\\n    </div>\\n    \\n    <div class=\"grid grid-cols-4 gap-x-4 border rounded pr-3 bg-green-50 hover:shadow-lg transition duration-500\">\\n        <img src=\"/static/placeholder.png\" />\\n        <div class=\"col-span-3 space-y-3 py-3\">\\n            <h2 class=\"text-2xl text-green-900\">tend someone soldier</h2>\\n            <div class=\"grid grid-cols-2 italic\">\\n                <p> 1994-12-07 </p>\\n                <p class=\"text-right\">By Charlene Cook </p>\\n            </div>\\n            <p>Wish standard game and area. Fund itself who. Nice Democrat her him drop.\\nDrive reduce put generation. Career listen speech let suddenly.</p>\\n        </div>\\n    </div>\\n    \\n    <div class=\"grid grid-cols-4 gap-x-4 border rounded pr-3 bg-green-50 hover:shadow-lg transition duration-500\">\\n        <img src=\"/static/placeholder.png\" />\\n        <div class=\"col-span-3 space-y-3 py-3\">\\n            <h2 class=\"text-2xl text-green-900\">site American enter</h2>\\n            <div class=\"grid grid-cols-2 italic\">\\n                <p> 1996-01-28 </p>\\n                <p class=\"text-right\">By Erica Johnson </p>\\n            </div>\\n            <p>Rule send moment represent grow out. Light role hear difficult idea possible prove market. Special cup during win stage true.\\nTelevision Mr produce when day maybe ground. System policy town owner throughout affect carry.</p>\\n        </div>\\n    </div>\\n    \\n    <div class=\"grid grid-cols-4 gap-x-4 border rounded pr-3 bg-green-50 hover:shadow-lg transition duration-500\">\\n        <img src=\"/static/placeholder.png\" />\\n        <div class=\"col-span-3 space-y-3 py-3\">\\n            <h2 class=\"text-2xl text-green-900\">single drug possible</h2>\\n            <div class=\"grid grid-cols-2 italic\">\\n                <p> 1988-10-27 </p>\\n                <p class=\"text-right\">By Andrea Phillips </p>\\n            </div>\\n            <p>Everything treatment decade other far everything. Sometimes ask around since lead. Almost work box none simple. Network fund run.\\nEffort former nature range answer important simple. Skill north central religious forget region middle agree. Forward perform writer education in.</p>\\n        </div>\\n    </div>\\n    \\n    <div class=\"grid grid-cols-4 gap-x-4 border rounded pr-3 bg-green-50 hover:shadow-lg transition duration-500\">\\n        <img src=\"/static/placeholder.png\" />\\n        <div class=\"col-span-3 space-y-3 py-3\">\\n            <h2 class=\"text-2xl text-green-900\">indeed night nothing</h2>\\n            <div class=\"grid grid-cols-2 italic\">\\n                <p> 1997-05-15 </p>\\n                <p class=\"text-right\">By Daniel Mayer </p>\\n            </div>\\n            <p>Mention real sit source yourself south. Hospital another though when. Street wife over image move read.\\nAlone low face tonight development door.</p>\\n        </div>\\n    </div>\\n    \\n    <div class=\"grid grid-cols-4 gap-x-4 border rounded pr-3 bg-green-50 hover:shadow-lg transition duration-500\">\\n        <img src=\"/static/placeholder.png\" />\\n        <div class=\"col-span-3 space-y-3 py-3\">\\n            <h2 class=\"text-2xl text-green-900\">brother sea without</h2>\\n            <div class=\"grid grid-cols-2 italic\">\\n                <p> 1971-02-25 </p>\\n                <p class=\"text-right\">By Jodi Guerra </p>\\n            </div>\\n            <p>Tax life miss food economic.\\nNotice draw ahead you true. Necessary soldier respond then short.</p>\\n        </div>\\n    </div>\\n    \\n    <div class=\"grid grid-cols-4 gap-x-4 border rounded pr-3 bg-green-50 hover:shadow-lg transition duration-500\">\\n        <img src=\"/static/placeholder.png\" />\\n        <div class=\"col-span-3 space-y-3 py-3\">\\n            <h2 class=\"text-2xl text-green-900\">meet author sense</h2>\\n            <div class=\"grid grid-cols-2 italic\">\\n                <p> 1996-08-23 </p>\\n                <p class=\"text-right\">By Christina Edwards MD </p>\\n            </div>\\n            <p>Vote lead large soldier which these. Debate type born player most all. Capital yard Republican them music many.\\nList dinner our item see officer. Set loss street program.</p>\\n        </div>\\n    </div>\\n    \\n    <div class=\"grid grid-cols-4 gap-x-4 border rounded pr-3 bg-green-50 hover:shadow-lg transition duration-500\">\\n        <img src=\"/static/placeholder.png\" />\\n        <div class=\"col-span-3 space-y-3 py-3\">\\n            <h2 class=\"text-2xl text-green-900\">majority seat person</h2>\\n            <div class=\"grid grid-cols-2 italic\">\\n                <p> 1993-12-30 </p>\\n                <p class=\"text-right\">By Daniel Hanna </p>\\n            </div>\\n            <p>Allow to western order. Ball kind never interview under adult onto. Quality though financial wonder former player.\\nMuch big college imagine. Daughter oil possible approach grow.</p>\\n        </div>\\n    </div>\\n    \\n    <div class=\"grid grid-cols-4 gap-x-4 border rounded pr-3 bg-green-50 hover:shadow-lg transition duration-500\">\\n        <img src=\"/static/placeholder.png\" />\\n        <div class=\"col-span-3 space-y-3 py-3\">\\n            <h2 class=\"text-2xl text-green-900\">him plant history</h2>\\n            <div class=\"grid grid-cols-2 italic\">\\n                <p> 1984-02-16 </p>\\n                <p class=\"text-right\">By Christopher Brown </p>\\n            </div>\\n            <p>Under usually plant room billion will design. Center describe option conference experience poor fall. Career issue product receive car sell also key.\\nLeave skin population create. Specific grow sort light share interesting. Necessary traditional his exactly song.</p>\\n        </div>\\n    </div>\\n    \\n    <div class=\"grid grid-cols-4 gap-x-4 border rounded pr-3 bg-green-50 hover:shadow-lg transition duration-500\">\\n        <img src=\"/static/placeholder.png\" />\\n        <div class=\"col-span-3 space-y-3 py-3\">\\n            <h2 class=\"text-2xl text-green-900\">trouble each pull</h2>\\n            <div class=\"grid grid-cols-2 italic\">\\n                <p> 2015-06-22 </p>\\n                <p class=\"text-right\">By Samuel Thompson </p>\\n            </div>\\n            <p>Represent cultural meeting wide. Game future very painting crime generation whose. Industry industry beyond.\\nSame dream require effect mother. Sort live support future.</p>\\n        </div>\\n    </div>\\n    \\n</div>\\n\\n</body>\\n</html>'"
      ]
     },
     "execution_count": 2,
     "metadata": {},
     "output_type": "execute_result"
    }
   ],
   "source": [
    "response = requests.get('https://web-scraping-demo.zgulde.net/news')\n",
    "html = response.text\n",
    "html"
   ]
  },
  {
   "cell_type": "markdown",
   "metadata": {},
   "source": [
    "We can make more sense of that html with the beautiful soup library."
   ]
  },
  {
   "cell_type": "code",
   "execution_count": 3,
   "metadata": {
    "scrolled": true
   },
   "outputs": [
    {
     "name": "stdout",
     "output_type": "stream",
     "text": [
      "<!DOCTYPE html>\n",
      "<html lang=\"en\">\n",
      " <head>\n",
      "  <meta charset=\"utf-8\"/>\n",
      "  <meta content=\"IE=edge\" http-equiv=\"X-UA-Compatible\"/>\n",
      "  <meta content=\"width=device-width, initial-scale=1.0\" name=\"viewport\"/>\n",
      "  <title>\n",
      "   News Example Page\n",
      "  </title>\n",
      "  <link href=\"https://unpkg.com/tailwindcss@^2/dist/tailwind.min.css\" rel=\"stylesheet\"/>\n",
      "  <link href=\"https://cdn.jsdelivr.net/npm/bootstrap-icons@1.4.1/font/bootstrap-icons.css\" rel=\"stylesheet\"/>\n",
      " </head>\n",
      " <body class=\"mx-auto max-w-screen-lg pb-32\">\n",
      "  <h1 class=\"my-5 text-4xl text-center\">\n",
      "   News!\n",
      "  </h1>\n",
      "  <div class=\"my-5 text-red-800 px-5 py-3 bg-red-100 font-bold\">\n",
      "   <p>\n",
      "    <i class=\"bi bi-exclamation-circle text-xl\">\n",
      "    </i>\n",
      "    All data on this page is strictly for demonstration purposes and fake.\n",
      "   </p>\n",
      "  </div>\n",
      "  <div class=\"grid gap-y-12\">\n",
      "   <div class=\"grid grid-cols-4 gap-x-4 border rounded pr-3 bg-green-50 hover:shadow-lg transition duration-500\">\n",
      "    <img src=\"/static/placeholder.png\"/>\n",
      "    <div class=\"col-span-3 space-y-3 py-3\">\n",
      "     <h2 class=\"text-2xl text-green-900\">\n",
      "      forward approach civil\n",
      "     </h2>\n",
      "     <div class=\"grid grid-cols-2 italic\">\n",
      "      <p>\n",
      "       2000-04-18\n",
      "      </p>\n",
      "      <p class=\"text-right\">\n",
      "       By Melvin Campbell\n",
      "      </p>\n",
      "     </div>\n",
      "     <p>\n",
      "      Toward toward us knowledge. Wonder approach consider matter provide air mouth. Personal statement father paper edge phone.\n",
      "Fly administration hotel walk soon dark us. Memory report she play present.\n",
      "     </p>\n",
      "    </div>\n",
      "   </div>\n",
      "   <div class=\"grid grid-cols-4 gap-x-4 border rounded pr-3 bg-green-50 hover:shadow-lg transition duration-500\">\n",
      "    <img src=\"/static/placeholder.png\"/>\n",
      "    <div class=\"col-span-3 space-y-3 py-3\">\n",
      "     <h2 class=\"text-2xl text-green-900\">\n",
      "      interest appear big\n",
      "     </h2>\n",
      "     <div class=\"grid grid-cols-2 italic\">\n",
      "      <p>\n",
      "       2019-04-13\n",
      "      </p>\n",
      "      <p class=\"text-right\">\n",
      "       By Tammy Riley\n",
      "      </p>\n",
      "     </div>\n",
      "     <p>\n",
      "      Example several risk here author your. Would across relate amount out. Produce direction election perform.\n",
      "Result three able political you figure do. Word but themselves glass safe base.\n",
      "     </p>\n",
      "    </div>\n",
      "   </div>\n",
      "   <div class=\"grid grid-cols-4 gap-x-4 border rounded pr-3 bg-green-50 hover:shadow-lg transition duration-500\">\n",
      "    <img src=\"/static/placeholder.png\"/>\n",
      "    <div class=\"col-span-3 space-y-3 py-3\">\n",
      "     <h2 class=\"text-2xl text-green-900\">\n",
      "      check first surface\n",
      "     </h2>\n",
      "     <div class=\"grid grid-cols-2 italic\">\n",
      "      <p>\n",
      "       1978-11-03\n",
      "      </p>\n",
      "      <p class=\"text-right\">\n",
      "       By Stephanie Bond\n",
      "      </p>\n",
      "     </div>\n",
      "     <p>\n",
      "      Fill image city. Might each he entire necessary. Risk he effort skin seek high myself across.\n",
      "Attorney during action ground among. Either money ask hotel either woman network. Receive of resource these sell.\n",
      "     </p>\n",
      "    </div>\n",
      "   </div>\n",
      "   <div class=\"grid grid-cols-4 gap-x-4 border rounded pr-3 bg-green-50 hover:shadow-lg transition duration-500\">\n",
      "    <img src=\"/static/placeholder.png\"/>\n",
      "    <div class=\"col-span-3 space-y-3 py-3\">\n",
      "     <h2 class=\"text-2xl text-green-900\">\n",
      "      tend someone soldier\n",
      "     </h2>\n",
      "     <div class=\"grid grid-cols-2 italic\">\n",
      "      <p>\n",
      "       1994-12-07\n",
      "      </p>\n",
      "      <p class=\"text-right\">\n",
      "       By Charlene Cook\n",
      "      </p>\n",
      "     </div>\n",
      "     <p>\n",
      "      Wish standard game and area. Fund itself who. Nice Democrat her him drop.\n",
      "Drive reduce put generation. Career listen speech let suddenly.\n",
      "     </p>\n",
      "    </div>\n",
      "   </div>\n",
      "   <div class=\"grid grid-cols-4 gap-x-4 border rounded pr-3 bg-green-50 hover:shadow-lg transition duration-500\">\n",
      "    <img src=\"/static/placeholder.png\"/>\n",
      "    <div class=\"col-span-3 space-y-3 py-3\">\n",
      "     <h2 class=\"text-2xl text-green-900\">\n",
      "      site American enter\n",
      "     </h2>\n",
      "     <div class=\"grid grid-cols-2 italic\">\n",
      "      <p>\n",
      "       1996-01-28\n",
      "      </p>\n",
      "      <p class=\"text-right\">\n",
      "       By Erica Johnson\n",
      "      </p>\n",
      "     </div>\n",
      "     <p>\n",
      "      Rule send moment represent grow out. Light role hear difficult idea possible prove market. Special cup during win stage true.\n",
      "Television Mr produce when day maybe ground. System policy town owner throughout affect carry.\n",
      "     </p>\n",
      "    </div>\n",
      "   </div>\n",
      "   <div class=\"grid grid-cols-4 gap-x-4 border rounded pr-3 bg-green-50 hover:shadow-lg transition duration-500\">\n",
      "    <img src=\"/static/placeholder.png\"/>\n",
      "    <div class=\"col-span-3 space-y-3 py-3\">\n",
      "     <h2 class=\"text-2xl text-green-900\">\n",
      "      single drug possible\n",
      "     </h2>\n",
      "     <div class=\"grid grid-cols-2 italic\">\n",
      "      <p>\n",
      "       1988-10-27\n",
      "      </p>\n",
      "      <p class=\"text-right\">\n",
      "       By Andrea Phillips\n",
      "      </p>\n",
      "     </div>\n",
      "     <p>\n",
      "      Everything treatment decade other far everything. Sometimes ask around since lead. Almost work box none simple. Network fund run.\n",
      "Effort former nature range answer important simple. Skill north central religious forget region middle agree. Forward perform writer education in.\n",
      "     </p>\n",
      "    </div>\n",
      "   </div>\n",
      "   <div class=\"grid grid-cols-4 gap-x-4 border rounded pr-3 bg-green-50 hover:shadow-lg transition duration-500\">\n",
      "    <img src=\"/static/placeholder.png\"/>\n",
      "    <div class=\"col-span-3 space-y-3 py-3\">\n",
      "     <h2 class=\"text-2xl text-green-900\">\n",
      "      indeed night nothing\n",
      "     </h2>\n",
      "     <div class=\"grid grid-cols-2 italic\">\n",
      "      <p>\n",
      "       1997-05-15\n",
      "      </p>\n",
      "      <p class=\"text-right\">\n",
      "       By Daniel Mayer\n",
      "      </p>\n",
      "     </div>\n",
      "     <p>\n",
      "      Mention real sit source yourself south. Hospital another though when. Street wife over image move read.\n",
      "Alone low face tonight development door.\n",
      "     </p>\n",
      "    </div>\n",
      "   </div>\n",
      "   <div class=\"grid grid-cols-4 gap-x-4 border rounded pr-3 bg-green-50 hover:shadow-lg transition duration-500\">\n",
      "    <img src=\"/static/placeholder.png\"/>\n",
      "    <div class=\"col-span-3 space-y-3 py-3\">\n",
      "     <h2 class=\"text-2xl text-green-900\">\n",
      "      brother sea without\n",
      "     </h2>\n",
      "     <div class=\"grid grid-cols-2 italic\">\n",
      "      <p>\n",
      "       1971-02-25\n",
      "      </p>\n",
      "      <p class=\"text-right\">\n",
      "       By Jodi Guerra\n",
      "      </p>\n",
      "     </div>\n",
      "     <p>\n",
      "      Tax life miss food economic.\n",
      "Notice draw ahead you true. Necessary soldier respond then short.\n",
      "     </p>\n",
      "    </div>\n",
      "   </div>\n",
      "   <div class=\"grid grid-cols-4 gap-x-4 border rounded pr-3 bg-green-50 hover:shadow-lg transition duration-500\">\n",
      "    <img src=\"/static/placeholder.png\"/>\n",
      "    <div class=\"col-span-3 space-y-3 py-3\">\n",
      "     <h2 class=\"text-2xl text-green-900\">\n",
      "      meet author sense\n",
      "     </h2>\n",
      "     <div class=\"grid grid-cols-2 italic\">\n",
      "      <p>\n",
      "       1996-08-23\n",
      "      </p>\n",
      "      <p class=\"text-right\">\n",
      "       By Christina Edwards MD\n",
      "      </p>\n",
      "     </div>\n",
      "     <p>\n",
      "      Vote lead large soldier which these. Debate type born player most all. Capital yard Republican them music many.\n",
      "List dinner our item see officer. Set loss street program.\n",
      "     </p>\n",
      "    </div>\n",
      "   </div>\n",
      "   <div class=\"grid grid-cols-4 gap-x-4 border rounded pr-3 bg-green-50 hover:shadow-lg transition duration-500\">\n",
      "    <img src=\"/static/placeholder.png\"/>\n",
      "    <div class=\"col-span-3 space-y-3 py-3\">\n",
      "     <h2 class=\"text-2xl text-green-900\">\n",
      "      majority seat person\n",
      "     </h2>\n",
      "     <div class=\"grid grid-cols-2 italic\">\n",
      "      <p>\n",
      "       1993-12-30\n",
      "      </p>\n",
      "      <p class=\"text-right\">\n",
      "       By Daniel Hanna\n",
      "      </p>\n",
      "     </div>\n",
      "     <p>\n",
      "      Allow to western order. Ball kind never interview under adult onto. Quality though financial wonder former player.\n",
      "Much big college imagine. Daughter oil possible approach grow.\n",
      "     </p>\n",
      "    </div>\n",
      "   </div>\n",
      "   <div class=\"grid grid-cols-4 gap-x-4 border rounded pr-3 bg-green-50 hover:shadow-lg transition duration-500\">\n",
      "    <img src=\"/static/placeholder.png\"/>\n",
      "    <div class=\"col-span-3 space-y-3 py-3\">\n",
      "     <h2 class=\"text-2xl text-green-900\">\n",
      "      him plant history\n",
      "     </h2>\n",
      "     <div class=\"grid grid-cols-2 italic\">\n",
      "      <p>\n",
      "       1984-02-16\n",
      "      </p>\n",
      "      <p class=\"text-right\">\n",
      "       By Christopher Brown\n",
      "      </p>\n",
      "     </div>\n",
      "     <p>\n",
      "      Under usually plant room billion will design. Center describe option conference experience poor fall. Career issue product receive car sell also key.\n",
      "Leave skin population create. Specific grow sort light share interesting. Necessary traditional his exactly song.\n",
      "     </p>\n",
      "    </div>\n",
      "   </div>\n",
      "   <div class=\"grid grid-cols-4 gap-x-4 border rounded pr-3 bg-green-50 hover:shadow-lg transition duration-500\">\n",
      "    <img src=\"/static/placeholder.png\"/>\n",
      "    <div class=\"col-span-3 space-y-3 py-3\">\n",
      "     <h2 class=\"text-2xl text-green-900\">\n",
      "      trouble each pull\n",
      "     </h2>\n",
      "     <div class=\"grid grid-cols-2 italic\">\n",
      "      <p>\n",
      "       2015-06-22\n",
      "      </p>\n",
      "      <p class=\"text-right\">\n",
      "       By Samuel Thompson\n",
      "      </p>\n",
      "     </div>\n",
      "     <p>\n",
      "      Represent cultural meeting wide. Game future very painting crime generation whose. Industry industry beyond.\n",
      "Same dream require effect mother. Sort live support future.\n",
      "     </p>\n",
      "    </div>\n",
      "   </div>\n",
      "  </div>\n",
      " </body>\n",
      "</html>\n"
     ]
    }
   ],
   "source": [
    "soup = BeautifulSoup(html)\n",
    "print(soup.prettify())"
   ]
  },
  {
   "cell_type": "markdown",
   "metadata": {},
   "source": [
    "From here we can switch between the browser and python and try out different ways of getting different parts of the html document.\n",
    "\n",
    "We can leverage Google Chrome's developer tools by right clicking and choosing \"Inspect\". We can then use this html document inspector to help us with our web scraping."
   ]
  },
  {
   "cell_type": "code",
   "execution_count": 4,
   "metadata": {},
   "outputs": [],
   "source": [
    "# Use beautifulsoup methods to extract necessary content from an article"
   ]
  },
  {
   "cell_type": "code",
   "execution_count": 5,
   "metadata": {},
   "outputs": [
    {
     "data": {
      "text/plain": [
       "[<div class=\"grid grid-cols-4 gap-x-4 border rounded pr-3 bg-green-50 hover:shadow-lg transition duration-500\">\n",
       " <img src=\"/static/placeholder.png\"/>\n",
       " <div class=\"col-span-3 space-y-3 py-3\">\n",
       " <h2 class=\"text-2xl text-green-900\">forward approach civil</h2>\n",
       " <div class=\"grid grid-cols-2 italic\">\n",
       " <p> 2000-04-18 </p>\n",
       " <p class=\"text-right\">By Melvin Campbell </p>\n",
       " </div>\n",
       " <p>Toward toward us knowledge. Wonder approach consider matter provide air mouth. Personal statement father paper edge phone.\n",
       " Fly administration hotel walk soon dark us. Memory report she play present.</p>\n",
       " </div>\n",
       " </div>,\n",
       " <div class=\"grid grid-cols-4 gap-x-4 border rounded pr-3 bg-green-50 hover:shadow-lg transition duration-500\">\n",
       " <img src=\"/static/placeholder.png\"/>\n",
       " <div class=\"col-span-3 space-y-3 py-3\">\n",
       " <h2 class=\"text-2xl text-green-900\">interest appear big</h2>\n",
       " <div class=\"grid grid-cols-2 italic\">\n",
       " <p> 2019-04-13 </p>\n",
       " <p class=\"text-right\">By Tammy Riley </p>\n",
       " </div>\n",
       " <p>Example several risk here author your. Would across relate amount out. Produce direction election perform.\n",
       " Result three able political you figure do. Word but themselves glass safe base.</p>\n",
       " </div>\n",
       " </div>,\n",
       " <div class=\"grid grid-cols-4 gap-x-4 border rounded pr-3 bg-green-50 hover:shadow-lg transition duration-500\">\n",
       " <img src=\"/static/placeholder.png\"/>\n",
       " <div class=\"col-span-3 space-y-3 py-3\">\n",
       " <h2 class=\"text-2xl text-green-900\">check first surface</h2>\n",
       " <div class=\"grid grid-cols-2 italic\">\n",
       " <p> 1978-11-03 </p>\n",
       " <p class=\"text-right\">By Stephanie Bond </p>\n",
       " </div>\n",
       " <p>Fill image city. Might each he entire necessary. Risk he effort skin seek high myself across.\n",
       " Attorney during action ground among. Either money ask hotel either woman network. Receive of resource these sell.</p>\n",
       " </div>\n",
       " </div>,\n",
       " <div class=\"grid grid-cols-4 gap-x-4 border rounded pr-3 bg-green-50 hover:shadow-lg transition duration-500\">\n",
       " <img src=\"/static/placeholder.png\"/>\n",
       " <div class=\"col-span-3 space-y-3 py-3\">\n",
       " <h2 class=\"text-2xl text-green-900\">tend someone soldier</h2>\n",
       " <div class=\"grid grid-cols-2 italic\">\n",
       " <p> 1994-12-07 </p>\n",
       " <p class=\"text-right\">By Charlene Cook </p>\n",
       " </div>\n",
       " <p>Wish standard game and area. Fund itself who. Nice Democrat her him drop.\n",
       " Drive reduce put generation. Career listen speech let suddenly.</p>\n",
       " </div>\n",
       " </div>,\n",
       " <div class=\"grid grid-cols-4 gap-x-4 border rounded pr-3 bg-green-50 hover:shadow-lg transition duration-500\">\n",
       " <img src=\"/static/placeholder.png\"/>\n",
       " <div class=\"col-span-3 space-y-3 py-3\">\n",
       " <h2 class=\"text-2xl text-green-900\">site American enter</h2>\n",
       " <div class=\"grid grid-cols-2 italic\">\n",
       " <p> 1996-01-28 </p>\n",
       " <p class=\"text-right\">By Erica Johnson </p>\n",
       " </div>\n",
       " <p>Rule send moment represent grow out. Light role hear difficult idea possible prove market. Special cup during win stage true.\n",
       " Television Mr produce when day maybe ground. System policy town owner throughout affect carry.</p>\n",
       " </div>\n",
       " </div>,\n",
       " <div class=\"grid grid-cols-4 gap-x-4 border rounded pr-3 bg-green-50 hover:shadow-lg transition duration-500\">\n",
       " <img src=\"/static/placeholder.png\"/>\n",
       " <div class=\"col-span-3 space-y-3 py-3\">\n",
       " <h2 class=\"text-2xl text-green-900\">single drug possible</h2>\n",
       " <div class=\"grid grid-cols-2 italic\">\n",
       " <p> 1988-10-27 </p>\n",
       " <p class=\"text-right\">By Andrea Phillips </p>\n",
       " </div>\n",
       " <p>Everything treatment decade other far everything. Sometimes ask around since lead. Almost work box none simple. Network fund run.\n",
       " Effort former nature range answer important simple. Skill north central religious forget region middle agree. Forward perform writer education in.</p>\n",
       " </div>\n",
       " </div>,\n",
       " <div class=\"grid grid-cols-4 gap-x-4 border rounded pr-3 bg-green-50 hover:shadow-lg transition duration-500\">\n",
       " <img src=\"/static/placeholder.png\"/>\n",
       " <div class=\"col-span-3 space-y-3 py-3\">\n",
       " <h2 class=\"text-2xl text-green-900\">indeed night nothing</h2>\n",
       " <div class=\"grid grid-cols-2 italic\">\n",
       " <p> 1997-05-15 </p>\n",
       " <p class=\"text-right\">By Daniel Mayer </p>\n",
       " </div>\n",
       " <p>Mention real sit source yourself south. Hospital another though when. Street wife over image move read.\n",
       " Alone low face tonight development door.</p>\n",
       " </div>\n",
       " </div>,\n",
       " <div class=\"grid grid-cols-4 gap-x-4 border rounded pr-3 bg-green-50 hover:shadow-lg transition duration-500\">\n",
       " <img src=\"/static/placeholder.png\"/>\n",
       " <div class=\"col-span-3 space-y-3 py-3\">\n",
       " <h2 class=\"text-2xl text-green-900\">brother sea without</h2>\n",
       " <div class=\"grid grid-cols-2 italic\">\n",
       " <p> 1971-02-25 </p>\n",
       " <p class=\"text-right\">By Jodi Guerra </p>\n",
       " </div>\n",
       " <p>Tax life miss food economic.\n",
       " Notice draw ahead you true. Necessary soldier respond then short.</p>\n",
       " </div>\n",
       " </div>,\n",
       " <div class=\"grid grid-cols-4 gap-x-4 border rounded pr-3 bg-green-50 hover:shadow-lg transition duration-500\">\n",
       " <img src=\"/static/placeholder.png\"/>\n",
       " <div class=\"col-span-3 space-y-3 py-3\">\n",
       " <h2 class=\"text-2xl text-green-900\">meet author sense</h2>\n",
       " <div class=\"grid grid-cols-2 italic\">\n",
       " <p> 1996-08-23 </p>\n",
       " <p class=\"text-right\">By Christina Edwards MD </p>\n",
       " </div>\n",
       " <p>Vote lead large soldier which these. Debate type born player most all. Capital yard Republican them music many.\n",
       " List dinner our item see officer. Set loss street program.</p>\n",
       " </div>\n",
       " </div>,\n",
       " <div class=\"grid grid-cols-4 gap-x-4 border rounded pr-3 bg-green-50 hover:shadow-lg transition duration-500\">\n",
       " <img src=\"/static/placeholder.png\"/>\n",
       " <div class=\"col-span-3 space-y-3 py-3\">\n",
       " <h2 class=\"text-2xl text-green-900\">majority seat person</h2>\n",
       " <div class=\"grid grid-cols-2 italic\">\n",
       " <p> 1993-12-30 </p>\n",
       " <p class=\"text-right\">By Daniel Hanna </p>\n",
       " </div>\n",
       " <p>Allow to western order. Ball kind never interview under adult onto. Quality though financial wonder former player.\n",
       " Much big college imagine. Daughter oil possible approach grow.</p>\n",
       " </div>\n",
       " </div>,\n",
       " <div class=\"grid grid-cols-4 gap-x-4 border rounded pr-3 bg-green-50 hover:shadow-lg transition duration-500\">\n",
       " <img src=\"/static/placeholder.png\"/>\n",
       " <div class=\"col-span-3 space-y-3 py-3\">\n",
       " <h2 class=\"text-2xl text-green-900\">him plant history</h2>\n",
       " <div class=\"grid grid-cols-2 italic\">\n",
       " <p> 1984-02-16 </p>\n",
       " <p class=\"text-right\">By Christopher Brown </p>\n",
       " </div>\n",
       " <p>Under usually plant room billion will design. Center describe option conference experience poor fall. Career issue product receive car sell also key.\n",
       " Leave skin population create. Specific grow sort light share interesting. Necessary traditional his exactly song.</p>\n",
       " </div>\n",
       " </div>,\n",
       " <div class=\"grid grid-cols-4 gap-x-4 border rounded pr-3 bg-green-50 hover:shadow-lg transition duration-500\">\n",
       " <img src=\"/static/placeholder.png\"/>\n",
       " <div class=\"col-span-3 space-y-3 py-3\">\n",
       " <h2 class=\"text-2xl text-green-900\">trouble each pull</h2>\n",
       " <div class=\"grid grid-cols-2 italic\">\n",
       " <p> 2015-06-22 </p>\n",
       " <p class=\"text-right\">By Samuel Thompson </p>\n",
       " </div>\n",
       " <p>Represent cultural meeting wide. Game future very painting crime generation whose. Industry industry beyond.\n",
       " Same dream require effect mother. Sort live support future.</p>\n",
       " </div>\n",
       " </div>]"
      ]
     },
     "execution_count": 5,
     "metadata": {},
     "output_type": "execute_result"
    }
   ],
   "source": [
    "articles = soup.select('.grid-cols-4')\n",
    "articles"
   ]
  },
  {
   "cell_type": "code",
   "execution_count": 6,
   "metadata": {},
   "outputs": [
    {
     "data": {
      "text/plain": [
       "<div class=\"grid grid-cols-4 gap-x-4 border rounded pr-3 bg-green-50 hover:shadow-lg transition duration-500\">\n",
       "<img src=\"/static/placeholder.png\"/>\n",
       "<div class=\"col-span-3 space-y-3 py-3\">\n",
       "<h2 class=\"text-2xl text-green-900\">forward approach civil</h2>\n",
       "<div class=\"grid grid-cols-2 italic\">\n",
       "<p> 2000-04-18 </p>\n",
       "<p class=\"text-right\">By Melvin Campbell </p>\n",
       "</div>\n",
       "<p>Toward toward us knowledge. Wonder approach consider matter provide air mouth. Personal statement father paper edge phone.\n",
       "Fly administration hotel walk soon dark us. Memory report she play present.</p>\n",
       "</div>\n",
       "</div>"
      ]
     },
     "execution_count": 6,
     "metadata": {},
     "output_type": "execute_result"
    }
   ],
   "source": [
    "article = articles[0]\n",
    "article"
   ]
  },
  {
   "cell_type": "code",
   "execution_count": 7,
   "metadata": {},
   "outputs": [
    {
     "data": {
      "text/plain": [
       "'forward approach civil'"
      ]
     },
     "execution_count": 7,
     "metadata": {},
     "output_type": "execute_result"
    }
   ],
   "source": [
    "headline = article.h2.text\n",
    "headline"
   ]
  },
  {
   "cell_type": "code",
   "execution_count": 8,
   "metadata": {},
   "outputs": [
    {
     "data": {
      "text/plain": [
       "'2000-04-18'"
      ]
     },
     "execution_count": 8,
     "metadata": {},
     "output_type": "execute_result"
    }
   ],
   "source": [
    "date = article.p.text.strip()\n",
    "date"
   ]
  },
  {
   "cell_type": "code",
   "execution_count": 9,
   "metadata": {},
   "outputs": [
    {
     "data": {
      "text/plain": [
       "'Melvin Campbell'"
      ]
     },
     "execution_count": 9,
     "metadata": {},
     "output_type": "execute_result"
    }
   ],
   "source": [
    "author = article.select('.text-right')[0].text.strip()[3:]\n",
    "author"
   ]
  },
  {
   "cell_type": "code",
   "execution_count": 10,
   "metadata": {},
   "outputs": [
    {
     "data": {
      "text/plain": [
       "'Toward toward us knowledge. Wonder approach consider matter provide air mouth. Personal statement father paper edge phone.\\nFly administration hotel walk soon dark us. Memory report she play present.'"
      ]
     },
     "execution_count": 10,
     "metadata": {},
     "output_type": "execute_result"
    }
   ],
   "source": [
    "content = article.select('p')[-1].text\n",
    "content"
   ]
  },
  {
   "cell_type": "markdown",
   "metadata": {},
   "source": [
    "Bringing it all together: Make a function"
   ]
  },
  {
   "cell_type": "code",
   "execution_count": 11,
   "metadata": {},
   "outputs": [],
   "source": [
    "# def parse_news(article):\n",
    "#     headline = \n",
    "#     date = \n",
    "#     author = \n",
    "#     content = \n",
    "#     content = \n",
    "    \n",
    "#     return {\n",
    "#         'headline': headline, 'date': date, 'author': author,\n",
    "#         'content': content\n",
    "#     }"
   ]
  },
  {
   "cell_type": "code",
   "execution_count": 12,
   "metadata": {},
   "outputs": [],
   "source": [
    "def parse_news(article):\n",
    "    headline = article.h2.text\n",
    "    date = article.p.text.strip()\n",
    "    author = article.select('.text-right')[0].text.strip()[3:]\n",
    "    content = article.select('p')[-1].text\n",
    "   \n",
    "    return {\n",
    "        'headline': headline, 'date': date, 'author': author,\n",
    "        'content': content\n",
    "    }"
   ]
  },
  {
   "cell_type": "code",
   "execution_count": 13,
   "metadata": {},
   "outputs": [
    {
     "data": {
      "text/plain": [
       "{'headline': 'forward approach civil',\n",
       " 'date': '2000-04-18',\n",
       " 'author': 'Melvin Campbell',\n",
       " 'content': 'Toward toward us knowledge. Wonder approach consider matter provide air mouth. Personal statement father paper edge phone.\\nFly administration hotel walk soon dark us. Memory report she play present.'}"
      ]
     },
     "execution_count": 13,
     "metadata": {},
     "output_type": "execute_result"
    }
   ],
   "source": [
    "parse_news(article)\n"
   ]
  },
  {
   "cell_type": "code",
   "execution_count": 14,
   "metadata": {},
   "outputs": [
    {
     "data": {
      "text/html": [
       "<div>\n",
       "<style scoped>\n",
       "    .dataframe tbody tr th:only-of-type {\n",
       "        vertical-align: middle;\n",
       "    }\n",
       "\n",
       "    .dataframe tbody tr th {\n",
       "        vertical-align: top;\n",
       "    }\n",
       "\n",
       "    .dataframe thead th {\n",
       "        text-align: right;\n",
       "    }\n",
       "</style>\n",
       "<table border=\"1\" class=\"dataframe\">\n",
       "  <thead>\n",
       "    <tr style=\"text-align: right;\">\n",
       "      <th></th>\n",
       "      <th>headline</th>\n",
       "      <th>date</th>\n",
       "      <th>author</th>\n",
       "      <th>content</th>\n",
       "    </tr>\n",
       "  </thead>\n",
       "  <tbody>\n",
       "    <tr>\n",
       "      <th>0</th>\n",
       "      <td>forward approach civil</td>\n",
       "      <td>2000-04-18</td>\n",
       "      <td>Melvin Campbell</td>\n",
       "      <td>Toward toward us knowledge. Wonder approach co...</td>\n",
       "    </tr>\n",
       "    <tr>\n",
       "      <th>1</th>\n",
       "      <td>interest appear big</td>\n",
       "      <td>2019-04-13</td>\n",
       "      <td>Tammy Riley</td>\n",
       "      <td>Example several risk here author your. Would a...</td>\n",
       "    </tr>\n",
       "    <tr>\n",
       "      <th>2</th>\n",
       "      <td>check first surface</td>\n",
       "      <td>1978-11-03</td>\n",
       "      <td>Stephanie Bond</td>\n",
       "      <td>Fill image city. Might each he entire necessar...</td>\n",
       "    </tr>\n",
       "    <tr>\n",
       "      <th>3</th>\n",
       "      <td>tend someone soldier</td>\n",
       "      <td>1994-12-07</td>\n",
       "      <td>Charlene Cook</td>\n",
       "      <td>Wish standard game and area. Fund itself who. ...</td>\n",
       "    </tr>\n",
       "    <tr>\n",
       "      <th>4</th>\n",
       "      <td>site American enter</td>\n",
       "      <td>1996-01-28</td>\n",
       "      <td>Erica Johnson</td>\n",
       "      <td>Rule send moment represent grow out. Light rol...</td>\n",
       "    </tr>\n",
       "    <tr>\n",
       "      <th>5</th>\n",
       "      <td>single drug possible</td>\n",
       "      <td>1988-10-27</td>\n",
       "      <td>Andrea Phillips</td>\n",
       "      <td>Everything treatment decade other far everythi...</td>\n",
       "    </tr>\n",
       "    <tr>\n",
       "      <th>6</th>\n",
       "      <td>indeed night nothing</td>\n",
       "      <td>1997-05-15</td>\n",
       "      <td>Daniel Mayer</td>\n",
       "      <td>Mention real sit source yourself south. Hospit...</td>\n",
       "    </tr>\n",
       "    <tr>\n",
       "      <th>7</th>\n",
       "      <td>brother sea without</td>\n",
       "      <td>1971-02-25</td>\n",
       "      <td>Jodi Guerra</td>\n",
       "      <td>Tax life miss food economic.\\nNotice draw ahea...</td>\n",
       "    </tr>\n",
       "    <tr>\n",
       "      <th>8</th>\n",
       "      <td>meet author sense</td>\n",
       "      <td>1996-08-23</td>\n",
       "      <td>Christina Edwards MD</td>\n",
       "      <td>Vote lead large soldier which these. Debate ty...</td>\n",
       "    </tr>\n",
       "    <tr>\n",
       "      <th>9</th>\n",
       "      <td>majority seat person</td>\n",
       "      <td>1993-12-30</td>\n",
       "      <td>Daniel Hanna</td>\n",
       "      <td>Allow to western order. Ball kind never interv...</td>\n",
       "    </tr>\n",
       "    <tr>\n",
       "      <th>10</th>\n",
       "      <td>him plant history</td>\n",
       "      <td>1984-02-16</td>\n",
       "      <td>Christopher Brown</td>\n",
       "      <td>Under usually plant room billion will design. ...</td>\n",
       "    </tr>\n",
       "    <tr>\n",
       "      <th>11</th>\n",
       "      <td>trouble each pull</td>\n",
       "      <td>2015-06-22</td>\n",
       "      <td>Samuel Thompson</td>\n",
       "      <td>Represent cultural meeting wide. Game future v...</td>\n",
       "    </tr>\n",
       "  </tbody>\n",
       "</table>\n",
       "</div>"
      ],
      "text/plain": [
       "                  headline        date                author  \\\n",
       "0   forward approach civil  2000-04-18       Melvin Campbell   \n",
       "1      interest appear big  2019-04-13           Tammy Riley   \n",
       "2      check first surface  1978-11-03        Stephanie Bond   \n",
       "3     tend someone soldier  1994-12-07         Charlene Cook   \n",
       "4      site American enter  1996-01-28         Erica Johnson   \n",
       "5     single drug possible  1988-10-27       Andrea Phillips   \n",
       "6     indeed night nothing  1997-05-15          Daniel Mayer   \n",
       "7      brother sea without  1971-02-25           Jodi Guerra   \n",
       "8        meet author sense  1996-08-23  Christina Edwards MD   \n",
       "9     majority seat person  1993-12-30          Daniel Hanna   \n",
       "10       him plant history  1984-02-16     Christopher Brown   \n",
       "11       trouble each pull  2015-06-22       Samuel Thompson   \n",
       "\n",
       "                                              content  \n",
       "0   Toward toward us knowledge. Wonder approach co...  \n",
       "1   Example several risk here author your. Would a...  \n",
       "2   Fill image city. Might each he entire necessar...  \n",
       "3   Wish standard game and area. Fund itself who. ...  \n",
       "4   Rule send moment represent grow out. Light rol...  \n",
       "5   Everything treatment decade other far everythi...  \n",
       "6   Mention real sit source yourself south. Hospit...  \n",
       "7   Tax life miss food economic.\\nNotice draw ahea...  \n",
       "8   Vote lead large soldier which these. Debate ty...  \n",
       "9   Allow to western order. Ball kind never interv...  \n",
       "10  Under usually plant room billion will design. ...  \n",
       "11  Represent cultural meeting wide. Game future v...  "
      ]
     },
     "execution_count": 14,
     "metadata": {},
     "output_type": "execute_result"
    }
   ],
   "source": [
    "# loop through all the articles\n",
    "pd.DataFrame([parse_news(article) for article in articles])\n"
   ]
  },
  {
   "cell_type": "markdown",
   "metadata": {},
   "source": [
    "## Scraping People"
   ]
  },
  {
   "cell_type": "code",
   "execution_count": 15,
   "metadata": {},
   "outputs": [],
   "source": [
    "response = requests.get('https://web-scraping-demo.zgulde.net/people', headers={'user-agent': 'Codeup DS Hoppper'})\n",
    "soup = BeautifulSoup(response.text)"
   ]
  },
  {
   "cell_type": "code",
   "execution_count": null,
   "metadata": {},
   "outputs": [],
   "source": []
  },
  {
   "cell_type": "code",
   "execution_count": 16,
   "metadata": {},
   "outputs": [],
   "source": [
    "# def parse_person(person):\n",
    "#     name = \n",
    "#     quote = \n",
    "#     email = \n",
    "#     phone = \n",
    "#     address = \n",
    "\n",
    "    \n",
    "#     return {\n",
    "#         'name': name, 'quote': quote, 'email': email,\n",
    "#         'phone': phone,\n",
    "#         'address': address\n",
    "#     }"
   ]
  },
  {
   "cell_type": "code",
   "execution_count": 17,
   "metadata": {},
   "outputs": [],
   "source": [
    "# loop through all the persons\n"
   ]
  },
  {
   "cell_type": "markdown",
   "metadata": {},
   "source": [
    "## Web Scraping Etiquitte\n",
    "\n",
    "- respect the `robots.txt` file if present\n",
    "\n",
    "    * [Wikipedia: Robots exclusion standard](https://en.wikipedia.org/wiki/Robots_exclusion_standard)\n",
    "    * [robotstxt.org](http://www.robotstxt.org/robotstxt.html)\n",
    "    * [codeup's robots.txt](https://codeup.com/robots.txt)\n",
    "\n",
    "- use a descriptive user agent\n",
    "\n",
    "    ```python\n",
    "    requests.get('http://example.com', headers={'user-agent': 'codeup data science germain cohort'})\n",
    "    ```"
   ]
  },
  {
   "cell_type": "markdown",
   "metadata": {},
   "source": [
    "## Exercises\n",
    "\n",
    "#### Codeup Blog Articles\n",
    "\n",
    "Visit Codeup's Blog(http://codeup.com/blog/) and record the urls for at least 5 distinct blog posts. For each post, you should scrape at least the post's title and content.\n",
    "\n",
    "Encapsulate your work in a function named get_blog_articles that will return a list of dictionaries, with each dictionary representing one article. The shape of each dictionary should look like this:"
   ]
  },
  {
   "cell_type": "code",
   "execution_count": 18,
   "metadata": {},
   "outputs": [],
   "source": [
    "response = requests.get('https://codeup.com/blog/', headers={'user-agent': 'Codeup DS Hopper'})\n",
    "soup = BeautifulSoup(response.text)"
   ]
  },
  {
   "cell_type": "code",
   "execution_count": 19,
   "metadata": {},
   "outputs": [],
   "source": [
    "url = 'https://codeup.com/data-science/why-you-should-become-a-data-scientist/'\n",
    "headers = {'User-Agent': 'Codeup Data Science'} # Some websites don't accept the pyhon-requests default user-agent\n",
    "response = get(url, headers=headers)"
   ]
  },
  {
   "cell_type": "code",
   "execution_count": 20,
   "metadata": {},
   "outputs": [
    {
     "name": "stdout",
     "output_type": "stream",
     "text": [
      "<!DOCTYPE html>\n",
      "<html lang=\"en-US\">\n",
      "<head>\n",
      "\t<meta charset=\"UTF-8\" />\n",
      "<meta http-equiv=\"X-UA-Compatible\" content=\"IE=edge\">\n",
      "\t<link rel=\"pingback\" href=\"https://codeup.com/xmlrpc.php\" />\n",
      "\n",
      "\t<script type=\"text/javascript\">\n",
      "\t\tdocument.documentElement.className = 'js';\n",
      "\t</script>\n",
      "\t\n",
      "\t<link rel=\"preconnect\" href=\"https://fonts.gstatic.com\" crossorigin /><script id=\"diviarea-loader\">window.DiviPopupData=wi\n"
     ]
    }
   ],
   "source": [
    "print(response.text[:400])"
   ]
  },
  {
   "cell_type": "code",
   "execution_count": 21,
   "metadata": {},
   "outputs": [],
   "source": [
    "soup = BeautifulSoup(response.content, 'html.parser')"
   ]
  },
  {
   "cell_type": "code",
   "execution_count": 22,
   "metadata": {},
   "outputs": [],
   "source": [
    "with open('article.txt', 'w') as f:\n",
    "    f.write(article.text)"
   ]
  },
  {
   "cell_type": "code",
   "execution_count": null,
   "metadata": {},
   "outputs": [],
   "source": []
  }
 ],
 "metadata": {
  "interpreter": {
   "hash": "38cca0c38332a56087b24af0bc80247f4fced29cb4f7f437d91dc159adec9c4e"
  },
  "kernelspec": {
   "display_name": "Python 3",
   "language": "python",
   "name": "python3"
  },
  "language_info": {
   "codemirror_mode": {
    "name": "ipython",
    "version": 3
   },
   "file_extension": ".py",
   "mimetype": "text/x-python",
   "name": "python",
   "nbconvert_exporter": "python",
   "pygments_lexer": "ipython3",
   "version": "3.8.8"
  }
 },
 "nbformat": 4,
 "nbformat_minor": 4
}
