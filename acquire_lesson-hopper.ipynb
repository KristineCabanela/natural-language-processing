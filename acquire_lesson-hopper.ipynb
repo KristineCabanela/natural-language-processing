{
 "cells": [
  {
   "cell_type": "markdown",
   "metadata": {},
   "source": [
    "# Data Acquisition with Web Scraping"
   ]
  },
  {
   "cell_type": "code",
   "execution_count": 1,
   "metadata": {},
   "outputs": [],
   "source": [
    "import requests\n",
    "from bs4 import BeautifulSoup\n",
    "import pandas as pd"
   ]
  },
  {
   "cell_type": "markdown",
   "metadata": {},
   "source": [
    "`$ pip install beautifulsoup4`"
   ]
  },
  {
   "cell_type": "markdown",
   "metadata": {},
   "source": [
    "## Soup Methods\n",
    "\n",
    "- `soup.select('.class')`: to get all the elements with class `class`\n",
    "- `soup.select_one('.class')`: to get the first element with class `class`\n",
    "- `soup.h2`: to get the first `h2` element\n",
    "- `soup.find_all('h2')`: to get all the elements with tag name of `h2`\n",
    "- `soup('h2')` : same as `find_all` method above\n",
    "- `soup.find('h2')`: finds the first matching element"
   ]
  },
  {
   "cell_type": "markdown",
   "metadata": {},
   "source": [
    "First make the request. The response is a bunch of html."
   ]
  },
  {
   "cell_type": "code",
   "execution_count": 2,
   "metadata": {
    "scrolled": true
   },
   "outputs": [
    {
     "data": {
      "text/plain": [
       "'<!DOCTYPE html>\\n<html lang=\"en\">\\n<head>\\n    <meta charset=\"UTF-8\">\\n    <meta http-equiv=\"X-UA-Compatible\" content=\"IE=edge\">\\n    <meta name=\"viewport\" content=\"width=device-width, initial-scale=1.0\">\\n    <title>News Example Page</title>\\n    <link href=\"https://unpkg.com/tailwindcss@^2/dist/tailwind.min.css\" rel=\"stylesheet\" />\\n    <link rel=\"stylesheet\" href=\"https://cdn.jsdelivr.net/npm/bootstrap-icons@1.4.1/font/bootstrap-icons.css\" />\\n</head>\\n<body class=\"mx-auto max-w-screen-lg pb-32\">\\n    \\n<h1 class=\"my-5 text-4xl text-center\">News!</h1>\\n<div class=\"my-5 text-red-800 px-5 py-3 bg-red-100 font-bold\">\\n    <p>\\n        <i class=\"bi bi-exclamation-circle text-xl\"></i>\\n        All data on this page is strictly for demonstration purposes and fake.\\n    </p>\\n</div>\\n<div class=\"grid gap-y-12\">\\n    \\n    <div class=\"grid grid-cols-4 gap-x-4 border rounded pr-3 bg-green-50 hover:shadow-lg transition duration-500\">\\n        <img src=\"/static/placeholder.png\" />\\n        <div class=\"col-span-3 space-y-3 py-3\">\\n            <h2 class=\"text-2xl text-green-900\">box participant take</h2>\\n            <div class=\"grid grid-cols-2 italic\">\\n                <p> 2016-07-24 </p>\\n                <p class=\"text-right\">By Kim Moore </p>\\n            </div>\\n            <p>Simply woman offer population speech population.\\nIn trade challenge consumer enough. Do together top table. Above loss claim least natural senior. Each answer maintain example.</p>\\n        </div>\\n    </div>\\n    \\n    <div class=\"grid grid-cols-4 gap-x-4 border rounded pr-3 bg-green-50 hover:shadow-lg transition duration-500\">\\n        <img src=\"/static/placeholder.png\" />\\n        <div class=\"col-span-3 space-y-3 py-3\">\\n            <h2 class=\"text-2xl text-green-900\">ago local age</h2>\\n            <div class=\"grid grid-cols-2 italic\">\\n                <p> 2007-04-22 </p>\\n                <p class=\"text-right\">By Patricia Fletcher </p>\\n            </div>\\n            <p>Sometimes exactly theory professor term. Data at determine interview significant final then according.\\nSignificant begin former center. Else next water. Choose this realize leave through because.</p>\\n        </div>\\n    </div>\\n    \\n    <div class=\"grid grid-cols-4 gap-x-4 border rounded pr-3 bg-green-50 hover:shadow-lg transition duration-500\">\\n        <img src=\"/static/placeholder.png\" />\\n        <div class=\"col-span-3 space-y-3 py-3\">\\n            <h2 class=\"text-2xl text-green-900\">hold nature morning</h2>\\n            <div class=\"grid grid-cols-2 italic\">\\n                <p> 1978-12-07 </p>\\n                <p class=\"text-right\">By Danielle Hall </p>\\n            </div>\\n            <p>Capital growth growth fund fly. Western product believe add wall. Mention among which participant.\\nAlone professor six PM by compare role. Until above TV my.</p>\\n        </div>\\n    </div>\\n    \\n    <div class=\"grid grid-cols-4 gap-x-4 border rounded pr-3 bg-green-50 hover:shadow-lg transition duration-500\">\\n        <img src=\"/static/placeholder.png\" />\\n        <div class=\"col-span-3 space-y-3 py-3\">\\n            <h2 class=\"text-2xl text-green-900\">show card cultural</h2>\\n            <div class=\"grid grid-cols-2 italic\">\\n                <p> 1977-04-14 </p>\\n                <p class=\"text-right\">By Tamara Garcia </p>\\n            </div>\\n            <p>Development safe of term. Start world society father. Camera weight fine American ball no. Reality some hand safe.\\nSmile say human remain avoid nearly ahead. Probably film word. Chance resource pay writer shoulder deep.</p>\\n        </div>\\n    </div>\\n    \\n    <div class=\"grid grid-cols-4 gap-x-4 border rounded pr-3 bg-green-50 hover:shadow-lg transition duration-500\">\\n        <img src=\"/static/placeholder.png\" />\\n        <div class=\"col-span-3 space-y-3 py-3\">\\n            <h2 class=\"text-2xl text-green-900\">international decade usually</h2>\\n            <div class=\"grid grid-cols-2 italic\">\\n                <p> 1973-11-26 </p>\\n                <p class=\"text-right\">By Steven Frank </p>\\n            </div>\\n            <p>Trial protect many pass ask a. Arrive somebody some suddenly why charge. Significant attack environment week hospital nearly. Maybe huge claim effect six might.\\nSave what message executive resource.</p>\\n        </div>\\n    </div>\\n    \\n    <div class=\"grid grid-cols-4 gap-x-4 border rounded pr-3 bg-green-50 hover:shadow-lg transition duration-500\">\\n        <img src=\"/static/placeholder.png\" />\\n        <div class=\"col-span-3 space-y-3 py-3\">\\n            <h2 class=\"text-2xl text-green-900\">head imagine conference</h2>\\n            <div class=\"grid grid-cols-2 italic\">\\n                <p> 1991-02-22 </p>\\n                <p class=\"text-right\">By Brian Coleman </p>\\n            </div>\\n            <p>Investment but citizen very day firm degree. Forward shake new.\\nReally reveal garden final. Collection nice not.</p>\\n        </div>\\n    </div>\\n    \\n    <div class=\"grid grid-cols-4 gap-x-4 border rounded pr-3 bg-green-50 hover:shadow-lg transition duration-500\">\\n        <img src=\"/static/placeholder.png\" />\\n        <div class=\"col-span-3 space-y-3 py-3\">\\n            <h2 class=\"text-2xl text-green-900\">debate statement action</h2>\\n            <div class=\"grid grid-cols-2 italic\">\\n                <p> 2009-01-18 </p>\\n                <p class=\"text-right\">By Mathew Eaton </p>\\n            </div>\\n            <p>Wear through us program upon benefit. Effort ever improve front indicate.\\nOfficial he buy stay he its bit. Occur point assume summer. Sister chance again relationship.</p>\\n        </div>\\n    </div>\\n    \\n    <div class=\"grid grid-cols-4 gap-x-4 border rounded pr-3 bg-green-50 hover:shadow-lg transition duration-500\">\\n        <img src=\"/static/placeholder.png\" />\\n        <div class=\"col-span-3 space-y-3 py-3\">\\n            <h2 class=\"text-2xl text-green-900\">myself she send</h2>\\n            <div class=\"grid grid-cols-2 italic\">\\n                <p> 1985-10-02 </p>\\n                <p class=\"text-right\">By Joseph Reeves </p>\\n            </div>\\n            <p>Perform compare former community. Expert inside walk choice produce treat character.\\nUnderstand agree art cause southern minute. Yeah amount clearly majority take small. Picture allow blue sing skin half.</p>\\n        </div>\\n    </div>\\n    \\n    <div class=\"grid grid-cols-4 gap-x-4 border rounded pr-3 bg-green-50 hover:shadow-lg transition duration-500\">\\n        <img src=\"/static/placeholder.png\" />\\n        <div class=\"col-span-3 space-y-3 py-3\">\\n            <h2 class=\"text-2xl text-green-900\">fish job school</h2>\\n            <div class=\"grid grid-cols-2 italic\">\\n                <p> 1998-10-28 </p>\\n                <p class=\"text-right\">By Benjamin Lynch </p>\\n            </div>\\n            <p>Process economic shoulder within reduce why much finish. Itself in police leave everybody with make. Challenge certain president owner.\\nThroughout yes pay cut great. Create level already. American manage into century best.</p>\\n        </div>\\n    </div>\\n    \\n    <div class=\"grid grid-cols-4 gap-x-4 border rounded pr-3 bg-green-50 hover:shadow-lg transition duration-500\">\\n        <img src=\"/static/placeholder.png\" />\\n        <div class=\"col-span-3 space-y-3 py-3\">\\n            <h2 class=\"text-2xl text-green-900\">answer cost dream</h2>\\n            <div class=\"grid grid-cols-2 italic\">\\n                <p> 2007-10-03 </p>\\n                <p class=\"text-right\">By Aaron Bolton </p>\\n            </div>\\n            <p>Vote decide like cup time. Site right no decade. Might born above fill information there hard.\\nParent it alone doctor. Recognize modern she present.</p>\\n        </div>\\n    </div>\\n    \\n    <div class=\"grid grid-cols-4 gap-x-4 border rounded pr-3 bg-green-50 hover:shadow-lg transition duration-500\">\\n        <img src=\"/static/placeholder.png\" />\\n        <div class=\"col-span-3 space-y-3 py-3\">\\n            <h2 class=\"text-2xl text-green-900\">improve role feel</h2>\\n            <div class=\"grid grid-cols-2 italic\">\\n                <p> 1981-03-04 </p>\\n                <p class=\"text-right\">By Angela Barker </p>\\n            </div>\\n            <p>Though room produce eye. Manage ready seek while lawyer maintain. Sometimes none our short real.\\nBlood listen discuss bad black final news. Owner space most certainly increase site.</p>\\n        </div>\\n    </div>\\n    \\n    <div class=\"grid grid-cols-4 gap-x-4 border rounded pr-3 bg-green-50 hover:shadow-lg transition duration-500\">\\n        <img src=\"/static/placeholder.png\" />\\n        <div class=\"col-span-3 space-y-3 py-3\">\\n            <h2 class=\"text-2xl text-green-900\">fight leave cold</h2>\\n            <div class=\"grid grid-cols-2 italic\">\\n                <p> 2011-01-31 </p>\\n                <p class=\"text-right\">By Terry Day </p>\\n            </div>\\n            <p>Sort minute weight either them develop main. System spring lawyer street wish focus local.\\nFund show need age. Cup this share hold push want. You all thing many science property. Everybody build hair agreement often live from likely.</p>\\n        </div>\\n    </div>\\n    \\n</div>\\n\\n</body>\\n</html>'"
      ]
     },
     "execution_count": 2,
     "metadata": {},
     "output_type": "execute_result"
    }
   ],
   "source": [
    "response = requests.get('https://web-scraping-demo.zgulde.net/news')\n",
    "html = response.text\n",
    "html"
   ]
  },
  {
   "cell_type": "markdown",
   "metadata": {},
   "source": [
    "We can make more sense of that html with the beautiful soup library."
   ]
  },
  {
   "cell_type": "code",
   "execution_count": 3,
   "metadata": {
    "scrolled": true
   },
   "outputs": [
    {
     "name": "stdout",
     "output_type": "stream",
     "text": [
      "<!DOCTYPE html>\n",
      "<html lang=\"en\">\n",
      " <head>\n",
      "  <meta charset=\"utf-8\"/>\n",
      "  <meta content=\"IE=edge\" http-equiv=\"X-UA-Compatible\"/>\n",
      "  <meta content=\"width=device-width, initial-scale=1.0\" name=\"viewport\"/>\n",
      "  <title>\n",
      "   News Example Page\n",
      "  </title>\n",
      "  <link href=\"https://unpkg.com/tailwindcss@^2/dist/tailwind.min.css\" rel=\"stylesheet\"/>\n",
      "  <link href=\"https://cdn.jsdelivr.net/npm/bootstrap-icons@1.4.1/font/bootstrap-icons.css\" rel=\"stylesheet\"/>\n",
      " </head>\n",
      " <body class=\"mx-auto max-w-screen-lg pb-32\">\n",
      "  <h1 class=\"my-5 text-4xl text-center\">\n",
      "   News!\n",
      "  </h1>\n",
      "  <div class=\"my-5 text-red-800 px-5 py-3 bg-red-100 font-bold\">\n",
      "   <p>\n",
      "    <i class=\"bi bi-exclamation-circle text-xl\">\n",
      "    </i>\n",
      "    All data on this page is strictly for demonstration purposes and fake.\n",
      "   </p>\n",
      "  </div>\n",
      "  <div class=\"grid gap-y-12\">\n",
      "   <div class=\"grid grid-cols-4 gap-x-4 border rounded pr-3 bg-green-50 hover:shadow-lg transition duration-500\">\n",
      "    <img src=\"/static/placeholder.png\"/>\n",
      "    <div class=\"col-span-3 space-y-3 py-3\">\n",
      "     <h2 class=\"text-2xl text-green-900\">\n",
      "      box participant take\n",
      "     </h2>\n",
      "     <div class=\"grid grid-cols-2 italic\">\n",
      "      <p>\n",
      "       2016-07-24\n",
      "      </p>\n",
      "      <p class=\"text-right\">\n",
      "       By Kim Moore\n",
      "      </p>\n",
      "     </div>\n",
      "     <p>\n",
      "      Simply woman offer population speech population.\n",
      "In trade challenge consumer enough. Do together top table. Above loss claim least natural senior. Each answer maintain example.\n",
      "     </p>\n",
      "    </div>\n",
      "   </div>\n",
      "   <div class=\"grid grid-cols-4 gap-x-4 border rounded pr-3 bg-green-50 hover:shadow-lg transition duration-500\">\n",
      "    <img src=\"/static/placeholder.png\"/>\n",
      "    <div class=\"col-span-3 space-y-3 py-3\">\n",
      "     <h2 class=\"text-2xl text-green-900\">\n",
      "      ago local age\n",
      "     </h2>\n",
      "     <div class=\"grid grid-cols-2 italic\">\n",
      "      <p>\n",
      "       2007-04-22\n",
      "      </p>\n",
      "      <p class=\"text-right\">\n",
      "       By Patricia Fletcher\n",
      "      </p>\n",
      "     </div>\n",
      "     <p>\n",
      "      Sometimes exactly theory professor term. Data at determine interview significant final then according.\n",
      "Significant begin former center. Else next water. Choose this realize leave through because.\n",
      "     </p>\n",
      "    </div>\n",
      "   </div>\n",
      "   <div class=\"grid grid-cols-4 gap-x-4 border rounded pr-3 bg-green-50 hover:shadow-lg transition duration-500\">\n",
      "    <img src=\"/static/placeholder.png\"/>\n",
      "    <div class=\"col-span-3 space-y-3 py-3\">\n",
      "     <h2 class=\"text-2xl text-green-900\">\n",
      "      hold nature morning\n",
      "     </h2>\n",
      "     <div class=\"grid grid-cols-2 italic\">\n",
      "      <p>\n",
      "       1978-12-07\n",
      "      </p>\n",
      "      <p class=\"text-right\">\n",
      "       By Danielle Hall\n",
      "      </p>\n",
      "     </div>\n",
      "     <p>\n",
      "      Capital growth growth fund fly. Western product believe add wall. Mention among which participant.\n",
      "Alone professor six PM by compare role. Until above TV my.\n",
      "     </p>\n",
      "    </div>\n",
      "   </div>\n",
      "   <div class=\"grid grid-cols-4 gap-x-4 border rounded pr-3 bg-green-50 hover:shadow-lg transition duration-500\">\n",
      "    <img src=\"/static/placeholder.png\"/>\n",
      "    <div class=\"col-span-3 space-y-3 py-3\">\n",
      "     <h2 class=\"text-2xl text-green-900\">\n",
      "      show card cultural\n",
      "     </h2>\n",
      "     <div class=\"grid grid-cols-2 italic\">\n",
      "      <p>\n",
      "       1977-04-14\n",
      "      </p>\n",
      "      <p class=\"text-right\">\n",
      "       By Tamara Garcia\n",
      "      </p>\n",
      "     </div>\n",
      "     <p>\n",
      "      Development safe of term. Start world society father. Camera weight fine American ball no. Reality some hand safe.\n",
      "Smile say human remain avoid nearly ahead. Probably film word. Chance resource pay writer shoulder deep.\n",
      "     </p>\n",
      "    </div>\n",
      "   </div>\n",
      "   <div class=\"grid grid-cols-4 gap-x-4 border rounded pr-3 bg-green-50 hover:shadow-lg transition duration-500\">\n",
      "    <img src=\"/static/placeholder.png\"/>\n",
      "    <div class=\"col-span-3 space-y-3 py-3\">\n",
      "     <h2 class=\"text-2xl text-green-900\">\n",
      "      international decade usually\n",
      "     </h2>\n",
      "     <div class=\"grid grid-cols-2 italic\">\n",
      "      <p>\n",
      "       1973-11-26\n",
      "      </p>\n",
      "      <p class=\"text-right\">\n",
      "       By Steven Frank\n",
      "      </p>\n",
      "     </div>\n",
      "     <p>\n",
      "      Trial protect many pass ask a. Arrive somebody some suddenly why charge. Significant attack environment week hospital nearly. Maybe huge claim effect six might.\n",
      "Save what message executive resource.\n",
      "     </p>\n",
      "    </div>\n",
      "   </div>\n",
      "   <div class=\"grid grid-cols-4 gap-x-4 border rounded pr-3 bg-green-50 hover:shadow-lg transition duration-500\">\n",
      "    <img src=\"/static/placeholder.png\"/>\n",
      "    <div class=\"col-span-3 space-y-3 py-3\">\n",
      "     <h2 class=\"text-2xl text-green-900\">\n",
      "      head imagine conference\n",
      "     </h2>\n",
      "     <div class=\"grid grid-cols-2 italic\">\n",
      "      <p>\n",
      "       1991-02-22\n",
      "      </p>\n",
      "      <p class=\"text-right\">\n",
      "       By Brian Coleman\n",
      "      </p>\n",
      "     </div>\n",
      "     <p>\n",
      "      Investment but citizen very day firm degree. Forward shake new.\n",
      "Really reveal garden final. Collection nice not.\n",
      "     </p>\n",
      "    </div>\n",
      "   </div>\n",
      "   <div class=\"grid grid-cols-4 gap-x-4 border rounded pr-3 bg-green-50 hover:shadow-lg transition duration-500\">\n",
      "    <img src=\"/static/placeholder.png\"/>\n",
      "    <div class=\"col-span-3 space-y-3 py-3\">\n",
      "     <h2 class=\"text-2xl text-green-900\">\n",
      "      debate statement action\n",
      "     </h2>\n",
      "     <div class=\"grid grid-cols-2 italic\">\n",
      "      <p>\n",
      "       2009-01-18\n",
      "      </p>\n",
      "      <p class=\"text-right\">\n",
      "       By Mathew Eaton\n",
      "      </p>\n",
      "     </div>\n",
      "     <p>\n",
      "      Wear through us program upon benefit. Effort ever improve front indicate.\n",
      "Official he buy stay he its bit. Occur point assume summer. Sister chance again relationship.\n",
      "     </p>\n",
      "    </div>\n",
      "   </div>\n",
      "   <div class=\"grid grid-cols-4 gap-x-4 border rounded pr-3 bg-green-50 hover:shadow-lg transition duration-500\">\n",
      "    <img src=\"/static/placeholder.png\"/>\n",
      "    <div class=\"col-span-3 space-y-3 py-3\">\n",
      "     <h2 class=\"text-2xl text-green-900\">\n",
      "      myself she send\n",
      "     </h2>\n",
      "     <div class=\"grid grid-cols-2 italic\">\n",
      "      <p>\n",
      "       1985-10-02\n",
      "      </p>\n",
      "      <p class=\"text-right\">\n",
      "       By Joseph Reeves\n",
      "      </p>\n",
      "     </div>\n",
      "     <p>\n",
      "      Perform compare former community. Expert inside walk choice produce treat character.\n",
      "Understand agree art cause southern minute. Yeah amount clearly majority take small. Picture allow blue sing skin half.\n",
      "     </p>\n",
      "    </div>\n",
      "   </div>\n",
      "   <div class=\"grid grid-cols-4 gap-x-4 border rounded pr-3 bg-green-50 hover:shadow-lg transition duration-500\">\n",
      "    <img src=\"/static/placeholder.png\"/>\n",
      "    <div class=\"col-span-3 space-y-3 py-3\">\n",
      "     <h2 class=\"text-2xl text-green-900\">\n",
      "      fish job school\n",
      "     </h2>\n",
      "     <div class=\"grid grid-cols-2 italic\">\n",
      "      <p>\n",
      "       1998-10-28\n",
      "      </p>\n",
      "      <p class=\"text-right\">\n",
      "       By Benjamin Lynch\n",
      "      </p>\n",
      "     </div>\n",
      "     <p>\n",
      "      Process economic shoulder within reduce why much finish. Itself in police leave everybody with make. Challenge certain president owner.\n",
      "Throughout yes pay cut great. Create level already. American manage into century best.\n",
      "     </p>\n",
      "    </div>\n",
      "   </div>\n",
      "   <div class=\"grid grid-cols-4 gap-x-4 border rounded pr-3 bg-green-50 hover:shadow-lg transition duration-500\">\n",
      "    <img src=\"/static/placeholder.png\"/>\n",
      "    <div class=\"col-span-3 space-y-3 py-3\">\n",
      "     <h2 class=\"text-2xl text-green-900\">\n",
      "      answer cost dream\n",
      "     </h2>\n",
      "     <div class=\"grid grid-cols-2 italic\">\n",
      "      <p>\n",
      "       2007-10-03\n",
      "      </p>\n",
      "      <p class=\"text-right\">\n",
      "       By Aaron Bolton\n",
      "      </p>\n",
      "     </div>\n",
      "     <p>\n",
      "      Vote decide like cup time. Site right no decade. Might born above fill information there hard.\n",
      "Parent it alone doctor. Recognize modern she present.\n",
      "     </p>\n",
      "    </div>\n",
      "   </div>\n",
      "   <div class=\"grid grid-cols-4 gap-x-4 border rounded pr-3 bg-green-50 hover:shadow-lg transition duration-500\">\n",
      "    <img src=\"/static/placeholder.png\"/>\n",
      "    <div class=\"col-span-3 space-y-3 py-3\">\n",
      "     <h2 class=\"text-2xl text-green-900\">\n",
      "      improve role feel\n",
      "     </h2>\n",
      "     <div class=\"grid grid-cols-2 italic\">\n",
      "      <p>\n",
      "       1981-03-04\n",
      "      </p>\n",
      "      <p class=\"text-right\">\n",
      "       By Angela Barker\n",
      "      </p>\n",
      "     </div>\n",
      "     <p>\n",
      "      Though room produce eye. Manage ready seek while lawyer maintain. Sometimes none our short real.\n",
      "Blood listen discuss bad black final news. Owner space most certainly increase site.\n",
      "     </p>\n",
      "    </div>\n",
      "   </div>\n",
      "   <div class=\"grid grid-cols-4 gap-x-4 border rounded pr-3 bg-green-50 hover:shadow-lg transition duration-500\">\n",
      "    <img src=\"/static/placeholder.png\"/>\n",
      "    <div class=\"col-span-3 space-y-3 py-3\">\n",
      "     <h2 class=\"text-2xl text-green-900\">\n",
      "      fight leave cold\n",
      "     </h2>\n",
      "     <div class=\"grid grid-cols-2 italic\">\n",
      "      <p>\n",
      "       2011-01-31\n",
      "      </p>\n",
      "      <p class=\"text-right\">\n",
      "       By Terry Day\n",
      "      </p>\n",
      "     </div>\n",
      "     <p>\n",
      "      Sort minute weight either them develop main. System spring lawyer street wish focus local.\n",
      "Fund show need age. Cup this share hold push want. You all thing many science property. Everybody build hair agreement often live from likely.\n",
      "     </p>\n",
      "    </div>\n",
      "   </div>\n",
      "  </div>\n",
      " </body>\n",
      "</html>\n"
     ]
    }
   ],
   "source": [
    "soup = BeautifulSoup(html)\n",
    "print(soup.prettify())"
   ]
  },
  {
   "cell_type": "markdown",
   "metadata": {},
   "source": [
    "From here we can switch between the browser and python and try out different ways of getting different parts of the html document.\n",
    "\n",
    "We can leverage Google Chrome's developer tools by right clicking and choosing \"Inspect\". We can then use this html document inspector to help us with our web scraping."
   ]
  },
  {
   "cell_type": "code",
   "execution_count": 4,
   "metadata": {},
   "outputs": [],
   "source": [
    "# Use beautifulsoup methods to extract necessary content from an article"
   ]
  },
  {
   "cell_type": "code",
   "execution_count": 5,
   "metadata": {},
   "outputs": [
    {
     "data": {
      "text/plain": [
       "[<div class=\"grid grid-cols-4 gap-x-4 border rounded pr-3 bg-green-50 hover:shadow-lg transition duration-500\">\n",
       " <img src=\"/static/placeholder.png\"/>\n",
       " <div class=\"col-span-3 space-y-3 py-3\">\n",
       " <h2 class=\"text-2xl text-green-900\">box participant take</h2>\n",
       " <div class=\"grid grid-cols-2 italic\">\n",
       " <p> 2016-07-24 </p>\n",
       " <p class=\"text-right\">By Kim Moore </p>\n",
       " </div>\n",
       " <p>Simply woman offer population speech population.\n",
       " In trade challenge consumer enough. Do together top table. Above loss claim least natural senior. Each answer maintain example.</p>\n",
       " </div>\n",
       " </div>,\n",
       " <div class=\"grid grid-cols-4 gap-x-4 border rounded pr-3 bg-green-50 hover:shadow-lg transition duration-500\">\n",
       " <img src=\"/static/placeholder.png\"/>\n",
       " <div class=\"col-span-3 space-y-3 py-3\">\n",
       " <h2 class=\"text-2xl text-green-900\">ago local age</h2>\n",
       " <div class=\"grid grid-cols-2 italic\">\n",
       " <p> 2007-04-22 </p>\n",
       " <p class=\"text-right\">By Patricia Fletcher </p>\n",
       " </div>\n",
       " <p>Sometimes exactly theory professor term. Data at determine interview significant final then according.\n",
       " Significant begin former center. Else next water. Choose this realize leave through because.</p>\n",
       " </div>\n",
       " </div>,\n",
       " <div class=\"grid grid-cols-4 gap-x-4 border rounded pr-3 bg-green-50 hover:shadow-lg transition duration-500\">\n",
       " <img src=\"/static/placeholder.png\"/>\n",
       " <div class=\"col-span-3 space-y-3 py-3\">\n",
       " <h2 class=\"text-2xl text-green-900\">hold nature morning</h2>\n",
       " <div class=\"grid grid-cols-2 italic\">\n",
       " <p> 1978-12-07 </p>\n",
       " <p class=\"text-right\">By Danielle Hall </p>\n",
       " </div>\n",
       " <p>Capital growth growth fund fly. Western product believe add wall. Mention among which participant.\n",
       " Alone professor six PM by compare role. Until above TV my.</p>\n",
       " </div>\n",
       " </div>,\n",
       " <div class=\"grid grid-cols-4 gap-x-4 border rounded pr-3 bg-green-50 hover:shadow-lg transition duration-500\">\n",
       " <img src=\"/static/placeholder.png\"/>\n",
       " <div class=\"col-span-3 space-y-3 py-3\">\n",
       " <h2 class=\"text-2xl text-green-900\">show card cultural</h2>\n",
       " <div class=\"grid grid-cols-2 italic\">\n",
       " <p> 1977-04-14 </p>\n",
       " <p class=\"text-right\">By Tamara Garcia </p>\n",
       " </div>\n",
       " <p>Development safe of term. Start world society father. Camera weight fine American ball no. Reality some hand safe.\n",
       " Smile say human remain avoid nearly ahead. Probably film word. Chance resource pay writer shoulder deep.</p>\n",
       " </div>\n",
       " </div>,\n",
       " <div class=\"grid grid-cols-4 gap-x-4 border rounded pr-3 bg-green-50 hover:shadow-lg transition duration-500\">\n",
       " <img src=\"/static/placeholder.png\"/>\n",
       " <div class=\"col-span-3 space-y-3 py-3\">\n",
       " <h2 class=\"text-2xl text-green-900\">international decade usually</h2>\n",
       " <div class=\"grid grid-cols-2 italic\">\n",
       " <p> 1973-11-26 </p>\n",
       " <p class=\"text-right\">By Steven Frank </p>\n",
       " </div>\n",
       " <p>Trial protect many pass ask a. Arrive somebody some suddenly why charge. Significant attack environment week hospital nearly. Maybe huge claim effect six might.\n",
       " Save what message executive resource.</p>\n",
       " </div>\n",
       " </div>,\n",
       " <div class=\"grid grid-cols-4 gap-x-4 border rounded pr-3 bg-green-50 hover:shadow-lg transition duration-500\">\n",
       " <img src=\"/static/placeholder.png\"/>\n",
       " <div class=\"col-span-3 space-y-3 py-3\">\n",
       " <h2 class=\"text-2xl text-green-900\">head imagine conference</h2>\n",
       " <div class=\"grid grid-cols-2 italic\">\n",
       " <p> 1991-02-22 </p>\n",
       " <p class=\"text-right\">By Brian Coleman </p>\n",
       " </div>\n",
       " <p>Investment but citizen very day firm degree. Forward shake new.\n",
       " Really reveal garden final. Collection nice not.</p>\n",
       " </div>\n",
       " </div>,\n",
       " <div class=\"grid grid-cols-4 gap-x-4 border rounded pr-3 bg-green-50 hover:shadow-lg transition duration-500\">\n",
       " <img src=\"/static/placeholder.png\"/>\n",
       " <div class=\"col-span-3 space-y-3 py-3\">\n",
       " <h2 class=\"text-2xl text-green-900\">debate statement action</h2>\n",
       " <div class=\"grid grid-cols-2 italic\">\n",
       " <p> 2009-01-18 </p>\n",
       " <p class=\"text-right\">By Mathew Eaton </p>\n",
       " </div>\n",
       " <p>Wear through us program upon benefit. Effort ever improve front indicate.\n",
       " Official he buy stay he its bit. Occur point assume summer. Sister chance again relationship.</p>\n",
       " </div>\n",
       " </div>,\n",
       " <div class=\"grid grid-cols-4 gap-x-4 border rounded pr-3 bg-green-50 hover:shadow-lg transition duration-500\">\n",
       " <img src=\"/static/placeholder.png\"/>\n",
       " <div class=\"col-span-3 space-y-3 py-3\">\n",
       " <h2 class=\"text-2xl text-green-900\">myself she send</h2>\n",
       " <div class=\"grid grid-cols-2 italic\">\n",
       " <p> 1985-10-02 </p>\n",
       " <p class=\"text-right\">By Joseph Reeves </p>\n",
       " </div>\n",
       " <p>Perform compare former community. Expert inside walk choice produce treat character.\n",
       " Understand agree art cause southern minute. Yeah amount clearly majority take small. Picture allow blue sing skin half.</p>\n",
       " </div>\n",
       " </div>,\n",
       " <div class=\"grid grid-cols-4 gap-x-4 border rounded pr-3 bg-green-50 hover:shadow-lg transition duration-500\">\n",
       " <img src=\"/static/placeholder.png\"/>\n",
       " <div class=\"col-span-3 space-y-3 py-3\">\n",
       " <h2 class=\"text-2xl text-green-900\">fish job school</h2>\n",
       " <div class=\"grid grid-cols-2 italic\">\n",
       " <p> 1998-10-28 </p>\n",
       " <p class=\"text-right\">By Benjamin Lynch </p>\n",
       " </div>\n",
       " <p>Process economic shoulder within reduce why much finish. Itself in police leave everybody with make. Challenge certain president owner.\n",
       " Throughout yes pay cut great. Create level already. American manage into century best.</p>\n",
       " </div>\n",
       " </div>,\n",
       " <div class=\"grid grid-cols-4 gap-x-4 border rounded pr-3 bg-green-50 hover:shadow-lg transition duration-500\">\n",
       " <img src=\"/static/placeholder.png\"/>\n",
       " <div class=\"col-span-3 space-y-3 py-3\">\n",
       " <h2 class=\"text-2xl text-green-900\">answer cost dream</h2>\n",
       " <div class=\"grid grid-cols-2 italic\">\n",
       " <p> 2007-10-03 </p>\n",
       " <p class=\"text-right\">By Aaron Bolton </p>\n",
       " </div>\n",
       " <p>Vote decide like cup time. Site right no decade. Might born above fill information there hard.\n",
       " Parent it alone doctor. Recognize modern she present.</p>\n",
       " </div>\n",
       " </div>,\n",
       " <div class=\"grid grid-cols-4 gap-x-4 border rounded pr-3 bg-green-50 hover:shadow-lg transition duration-500\">\n",
       " <img src=\"/static/placeholder.png\"/>\n",
       " <div class=\"col-span-3 space-y-3 py-3\">\n",
       " <h2 class=\"text-2xl text-green-900\">improve role feel</h2>\n",
       " <div class=\"grid grid-cols-2 italic\">\n",
       " <p> 1981-03-04 </p>\n",
       " <p class=\"text-right\">By Angela Barker </p>\n",
       " </div>\n",
       " <p>Though room produce eye. Manage ready seek while lawyer maintain. Sometimes none our short real.\n",
       " Blood listen discuss bad black final news. Owner space most certainly increase site.</p>\n",
       " </div>\n",
       " </div>,\n",
       " <div class=\"grid grid-cols-4 gap-x-4 border rounded pr-3 bg-green-50 hover:shadow-lg transition duration-500\">\n",
       " <img src=\"/static/placeholder.png\"/>\n",
       " <div class=\"col-span-3 space-y-3 py-3\">\n",
       " <h2 class=\"text-2xl text-green-900\">fight leave cold</h2>\n",
       " <div class=\"grid grid-cols-2 italic\">\n",
       " <p> 2011-01-31 </p>\n",
       " <p class=\"text-right\">By Terry Day </p>\n",
       " </div>\n",
       " <p>Sort minute weight either them develop main. System spring lawyer street wish focus local.\n",
       " Fund show need age. Cup this share hold push want. You all thing many science property. Everybody build hair agreement often live from likely.</p>\n",
       " </div>\n",
       " </div>]"
      ]
     },
     "execution_count": 5,
     "metadata": {},
     "output_type": "execute_result"
    }
   ],
   "source": [
    "articles = soup.select('.grid-cols-4')\n",
    "articles"
   ]
  },
  {
   "cell_type": "code",
   "execution_count": 6,
   "metadata": {},
   "outputs": [
    {
     "data": {
      "text/plain": [
       "<div class=\"grid grid-cols-4 gap-x-4 border rounded pr-3 bg-green-50 hover:shadow-lg transition duration-500\">\n",
       "<img src=\"/static/placeholder.png\"/>\n",
       "<div class=\"col-span-3 space-y-3 py-3\">\n",
       "<h2 class=\"text-2xl text-green-900\">box participant take</h2>\n",
       "<div class=\"grid grid-cols-2 italic\">\n",
       "<p> 2016-07-24 </p>\n",
       "<p class=\"text-right\">By Kim Moore </p>\n",
       "</div>\n",
       "<p>Simply woman offer population speech population.\n",
       "In trade challenge consumer enough. Do together top table. Above loss claim least natural senior. Each answer maintain example.</p>\n",
       "</div>\n",
       "</div>"
      ]
     },
     "execution_count": 6,
     "metadata": {},
     "output_type": "execute_result"
    }
   ],
   "source": [
    "article = articles[0]\n",
    "article"
   ]
  },
  {
   "cell_type": "code",
   "execution_count": 7,
   "metadata": {},
   "outputs": [
    {
     "data": {
      "text/plain": [
       "'box participant take'"
      ]
     },
     "execution_count": 7,
     "metadata": {},
     "output_type": "execute_result"
    }
   ],
   "source": [
    "headline = article.h2.text\n",
    "headline"
   ]
  },
  {
   "cell_type": "code",
   "execution_count": 8,
   "metadata": {},
   "outputs": [
    {
     "data": {
      "text/plain": [
       "'2016-07-24'"
      ]
     },
     "execution_count": 8,
     "metadata": {},
     "output_type": "execute_result"
    }
   ],
   "source": [
    "date = article.p.text.strip()\n",
    "date"
   ]
  },
  {
   "cell_type": "code",
   "execution_count": 9,
   "metadata": {},
   "outputs": [
    {
     "data": {
      "text/plain": [
       "'Kim Moore'"
      ]
     },
     "execution_count": 9,
     "metadata": {},
     "output_type": "execute_result"
    }
   ],
   "source": [
    "author = article.select('.text-right')[0].text.strip()[3:]\n",
    "author"
   ]
  },
  {
   "cell_type": "code",
   "execution_count": 10,
   "metadata": {},
   "outputs": [
    {
     "data": {
      "text/plain": [
       "'Simply woman offer population speech population.\\nIn trade challenge consumer enough. Do together top table. Above loss claim least natural senior. Each answer maintain example.'"
      ]
     },
     "execution_count": 10,
     "metadata": {},
     "output_type": "execute_result"
    }
   ],
   "source": [
    "content = article.select('p')[-1].text\n",
    "content"
   ]
  },
  {
   "cell_type": "markdown",
   "metadata": {},
   "source": [
    "Bringing it all together: Make a function"
   ]
  },
  {
   "cell_type": "code",
   "execution_count": 11,
   "metadata": {},
   "outputs": [],
   "source": [
    "# def parse_news(article):\n",
    "#     headline = \n",
    "#     date = \n",
    "#     author = \n",
    "#     content = \n",
    "#     content = \n",
    "    \n",
    "#     return {\n",
    "#         'headline': headline, 'date': date, 'author': author,\n",
    "#         'content': content\n",
    "#     }"
   ]
  },
  {
   "cell_type": "code",
   "execution_count": null,
   "metadata": {},
   "outputs": [],
   "source": [
    "def parse_news(article):\n",
    "    headline = article.h2.text\n",
    "    date = article.p.text.strip()\n",
    "    author = article.select('.text-right')[0].text.strip()[3:]\n",
    "    content = article.select('p')[-1].text\n",
    "   \n",
    "    return {\n",
    "        'headline': headline, 'date': date, 'author': author,\n",
    "        'content': content\n",
    "    }"
   ]
  },
  {
   "cell_type": "code",
   "execution_count": null,
   "metadata": {},
   "outputs": [],
   "source": [
    "parse_news(article)\n"
   ]
  },
  {
   "cell_type": "code",
   "execution_count": 12,
   "metadata": {},
   "outputs": [],
   "source": [
    "# loop through all the articles\n",
    "pd.DataFrame([parse_news(article) for article in articles])\n"
   ]
  },
  {
   "cell_type": "markdown",
   "metadata": {},
   "source": [
    "## Scraping People"
   ]
  },
  {
   "cell_type": "code",
   "execution_count": 13,
   "metadata": {},
   "outputs": [],
   "source": [
    "response = requests.get('https://web-scraping-demo.zgulde.net/people', headers={'user-agent': 'Codeup DS Hoppper'})\n",
    "soup = BeautifulSoup(response.text)"
   ]
  },
  {
   "cell_type": "code",
   "execution_count": null,
   "metadata": {},
   "outputs": [],
   "source": []
  },
  {
   "cell_type": "code",
   "execution_count": 14,
   "metadata": {},
   "outputs": [],
   "source": [
    "# def parse_person(person):\n",
    "#     name = \n",
    "#     quote = \n",
    "#     email = \n",
    "#     phone = \n",
    "#     address = \n",
    "\n",
    "    \n",
    "#     return {\n",
    "#         'name': name, 'quote': quote, 'email': email,\n",
    "#         'phone': phone,\n",
    "#         'address': address\n",
    "#     }"
   ]
  },
  {
   "cell_type": "code",
   "execution_count": 15,
   "metadata": {},
   "outputs": [],
   "source": [
    "# loop through all the persons\n"
   ]
  },
  {
   "cell_type": "markdown",
   "metadata": {},
   "source": [
    "## Web Scraping Etiquitte\n",
    "\n",
    "- respect the `robots.txt` file if present\n",
    "\n",
    "    * [Wikipedia: Robots exclusion standard](https://en.wikipedia.org/wiki/Robots_exclusion_standard)\n",
    "    * [robotstxt.org](http://www.robotstxt.org/robotstxt.html)\n",
    "    * [codeup's robots.txt](https://codeup.com/robots.txt)\n",
    "\n",
    "- use a descriptive user agent\n",
    "\n",
    "    ```python\n",
    "    requests.get('http://example.com', headers={'user-agent': 'codeup data science germain cohort'})\n",
    "    ```"
   ]
  },
  {
   "cell_type": "markdown",
   "metadata": {},
   "source": [
    "## Exercises\n",
    "\n",
    "#### Codeup Blog Articles\n",
    "\n",
    "Visit Codeup's Blog(http://codeup.com/blog/) and record the urls for at least 5 distinct blog posts. For each post, you should scrape at least the post's title and content.\n",
    "\n",
    "Encapsulate your work in a function named get_blog_articles that will return a list of dictionaries, with each dictionary representing one article. The shape of each dictionary should look like this:"
   ]
  },
  {
   "cell_type": "code",
   "execution_count": 16,
   "metadata": {},
   "outputs": [],
   "source": [
    "response = requests.get('https://codeup.com/blog/', headers={'user-agent': 'Codeup DS Hopper'})\n",
    "soup = BeautifulSoup(response.text)"
   ]
  },
  {
   "cell_type": "code",
   "execution_count": null,
   "metadata": {},
   "outputs": [],
   "source": []
  }
 ],
 "metadata": {
  "interpreter": {
   "hash": "38cca0c38332a56087b24af0bc80247f4fced29cb4f7f437d91dc159adec9c4e"
  },
  "kernelspec": {
   "display_name": "Python 3",
   "language": "python",
   "name": "python3"
  },
  "language_info": {
   "codemirror_mode": {
    "name": "ipython",
    "version": 3
   },
   "file_extension": ".py",
   "mimetype": "text/x-python",
   "name": "python",
   "nbconvert_exporter": "python",
   "pygments_lexer": "ipython3",
   "version": "3.8.8"
  }
 },
 "nbformat": 4,
 "nbformat_minor": 4
}
